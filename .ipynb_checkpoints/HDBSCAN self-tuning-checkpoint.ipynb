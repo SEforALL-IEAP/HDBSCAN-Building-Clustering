{
 "cells": [
  {
   "cell_type": "markdown",
   "metadata": {},
   "source": [
    "# Population clusters with HDBSCAN | self-tuning of eps and min_sample\n",
    "\n",
    "**Original code**: [Alexandros Korkovelos](https://github.com/akorkovelos)<br>\n",
    "**Conceptualization & Methodological review** : [Alexandros Korkovelos](https://github.com/akorkovelos)<br>\n",
    "**Updates, Modifications**: [Alexandros Korkovelos](https://github.com/akorkovelos)<br>"
   ]
  },
  {
   "cell_type": "markdown",
   "metadata": {},
   "source": [
    "## Importing packages"
   ]
  },
  {
   "cell_type": "code",
   "execution_count": 1,
   "metadata": {},
   "outputs": [],
   "source": [
    "# Operational\n",
    "import os\n",
    "import tkinter as tk\n",
    "from tkinter import filedialog, messagebox\n",
    "root = tk.Tk()\n",
    "root.withdraw()\n",
    "root.attributes(\"-topmost\", True)\n",
    "\n",
    "# Numerical\n",
    "import geopandas as gpd\n",
    "import pandas as pd\n",
    "import numpy as np\n",
    "import math\n",
    "\n",
    "import alphashape\n",
    "from descartes import PolygonPatch\n",
    "\n",
    "# ML related\n",
    "from sklearn.cluster import DBSCAN\n",
    "from hdbscan import HDBSCAN\n",
    "import sklearn.utils\n",
    "from sklearn.preprocessing import StandardScaler\n",
    "from sklearn import metrics\n",
    "\n",
    "\n",
    "# Mapping\n",
    "import contextily as ctx\n",
    "from ipyleaflet import *\n",
    "\n",
    "# Graphs and plotting\n",
    "import seaborn as sns\n",
    "\n",
    "import matplotlib.pyplot as plt\n",
    "%matplotlib inline"
   ]
  },
  {
   "cell_type": "code",
   "execution_count": 2,
   "metadata": {},
   "outputs": [],
   "source": [
    "# Coordinate system in EPSG registry\n",
    "proj_crs = \"epsg:32736\"\n",
    "def_crs = \"epsg:4326\""
   ]
  },
  {
   "cell_type": "markdown",
   "metadata": {},
   "source": [
    "## Import & prepare building footprint dataset"
   ]
  },
  {
   "cell_type": "markdown",
   "metadata": {},
   "source": [
    "#### Importing dataset "
   ]
  },
  {
   "cell_type": "code",
   "execution_count": 3,
   "metadata": {},
   "outputs": [],
   "source": [
    "messagebox.showinfo('Extraction directory', 'Output folder')\n",
    "workspace = filedialog.askdirectory()\n",
    "\n",
    "filename_building_footprint = (filedialog.askopenfilename(filetypes = ((\"geopackage\",\"*.gpkg\"),(\"all files\",\"*.*\"))))\n",
    "buildings=gpd.read_file(filename_building_footprint)"
   ]
  },
  {
   "cell_type": "code",
   "execution_count": 4,
   "metadata": {},
   "outputs": [
    {
     "data": {
      "application/vnd.jupyter.widget-view+json": {
       "model_id": "6a3618acea5741ef852df4f7ed7a5278",
       "version_major": 2,
       "version_minor": 0
      },
      "text/plain": [
       "Map(center=[-1.0829060000000001, 29.630823], controls=(ZoomControl(options=['position', 'zoom_in_text', 'zoom_…"
      ]
     },
     "metadata": {},
     "output_type": "display_data"
    }
   ],
   "source": [
    "m = Map(\n",
    "    basemap=basemap_to_tiles(basemaps.OpenStreetMap.HOT),\n",
    "    center=(buildings.geometry.centroid[0].y, buildings.geometry.centroid[0].x),\n",
    "    zoom=13)\n",
    "\n",
    "building_data = GeoData(geo_dataframe = buildings,\n",
    "                       style={'color': 'black', 'opacity':3, 'weight':1.9, 'dashArray':'2', 'fillOpacity':0.6},\n",
    "                       hover_style={'fillColor': 'red' , 'fillOpacity': 0.2},\n",
    "                       name = 'Buildings')\n",
    "\n",
    "m.add_layer(building_data)\n",
    "\n",
    "m"
   ]
  },
  {
   "cell_type": "code",
   "execution_count": 5,
   "metadata": {},
   "outputs": [],
   "source": [
    "## Alternative plotting of the geo-dataframe\n",
    "\n",
    "#fig, ax = plt.subplots(figsize=(15, 15))\n",
    "#buildings.plot(ax=ax)\n",
    "#ax.set_aspect('equal', 'box')\n",
    "#txt = ax.set_title('Dictribution of buildings in the AOI'.format(\"\"))"
   ]
  },
  {
   "cell_type": "markdown",
   "metadata": {},
   "source": [
    "#### Preping dataset"
   ]
  },
  {
   "cell_type": "code",
   "execution_count": 6,
   "metadata": {},
   "outputs": [],
   "source": [
    "# Getting centroids of buildings\n",
    "buildings_cent = buildings.centroid"
   ]
  },
  {
   "cell_type": "code",
   "execution_count": 7,
   "metadata": {},
   "outputs": [],
   "source": [
    "buildings_centroid = gpd.GeoDataFrame(geometry=buildings_cent)"
   ]
  },
  {
   "cell_type": "code",
   "execution_count": 8,
   "metadata": {},
   "outputs": [],
   "source": [
    "# Projecting geodataframe to coordinate system \n",
    "#buildings_centroid = buildings_centroid.to_crs({'init': proj_crs})\n",
    "\n",
    "## Creating lon/lat columns\n",
    "buildings_centroid['lon'] = buildings_centroid[\"geometry\"].x\n",
    "buildings_centroid['lat'] = buildings_centroid[\"geometry\"].y"
   ]
  },
  {
   "cell_type": "code",
   "execution_count": 9,
   "metadata": {},
   "outputs": [],
   "source": [
    "# Preping the dataframe used to fit the clustering algorithm \n",
    "buildings_centroid_cluster = buildings_centroid[['lon', 'lat']]"
   ]
  },
  {
   "cell_type": "code",
   "execution_count": 10,
   "metadata": {},
   "outputs": [
    {
     "data": {
      "text/html": [
       "<div>\n",
       "<style scoped>\n",
       "    .dataframe tbody tr th:only-of-type {\n",
       "        vertical-align: middle;\n",
       "    }\n",
       "\n",
       "    .dataframe tbody tr th {\n",
       "        vertical-align: top;\n",
       "    }\n",
       "\n",
       "    .dataframe thead th {\n",
       "        text-align: right;\n",
       "    }\n",
       "</style>\n",
       "<table border=\"1\" class=\"dataframe\">\n",
       "  <thead>\n",
       "    <tr style=\"text-align: right;\">\n",
       "      <th></th>\n",
       "      <th>lon</th>\n",
       "      <th>lat</th>\n",
       "    </tr>\n",
       "  </thead>\n",
       "  <tbody>\n",
       "    <tr>\n",
       "      <th>0</th>\n",
       "      <td>29.630823</td>\n",
       "      <td>-1.082906</td>\n",
       "    </tr>\n",
       "    <tr>\n",
       "      <th>1</th>\n",
       "      <td>29.634603</td>\n",
       "      <td>-1.095395</td>\n",
       "    </tr>\n",
       "    <tr>\n",
       "      <th>2</th>\n",
       "      <td>29.644555</td>\n",
       "      <td>-1.101703</td>\n",
       "    </tr>\n",
       "  </tbody>\n",
       "</table>\n",
       "</div>"
      ],
      "text/plain": [
       "         lon       lat\n",
       "0  29.630823 -1.082906\n",
       "1  29.634603 -1.095395\n",
       "2  29.644555 -1.101703"
      ]
     },
     "execution_count": 10,
     "metadata": {},
     "output_type": "execute_result"
    }
   ],
   "source": [
    "# Example output \n",
    "buildings_centroid_cluster.head(3)"
   ]
  },
  {
   "cell_type": "markdown",
   "metadata": {},
   "source": [
    "## Hyperparameter approximation"
   ]
  },
  {
   "cell_type": "markdown",
   "metadata": {},
   "source": [
    "### Check what KMeans suggests"
   ]
  },
  {
   "cell_type": "code",
   "execution_count": 11,
   "metadata": {},
   "outputs": [
    {
     "name": "stderr",
     "output_type": "stream",
     "text": [
      "C:\\Users\\alexl\\anaconda3\\envs\\clustering\\lib\\site-packages\\sklearn\\utils\\deprecation.py:143: FutureWarning: The sklearn.metrics.classification module is  deprecated in version 0.22 and will be removed in version 0.24. The corresponding classes / functions should instead be imported from sklearn.metrics. Anything that cannot be imported from sklearn.metrics is now part of the private API.\n",
      "  warnings.warn(message, FutureWarning)\n"
     ]
    }
   ],
   "source": [
    "from sklearn.metrics import silhouette_samples, silhouette_score\n",
    "from sklearn.cluster import KMeans\n",
    "from yellowbrick.cluster import KElbowVisualizer"
   ]
  },
  {
   "cell_type": "code",
   "execution_count": 12,
   "metadata": {},
   "outputs": [],
   "source": [
    "model = KMeans()\n",
    "visualizer = KElbowVisualizer(\n",
    "    model, k=(2,50), metric='silhouette', timings=False)"
   ]
  },
  {
   "cell_type": "code",
   "execution_count": 13,
   "metadata": {},
   "outputs": [
    {
     "data": {
      "image/png": "[encoded data removed]",
      "text/plain": [
       "<Figure size 576x396 with 1 Axes>"
      ]
     },
     "metadata": {},
     "output_type": "display_data"
    },
    {
     "data": {
      "text/plain": [
       "<matplotlib.axes._subplots.AxesSubplot at 0x24ad0dd7188>"
      ]
     },
     "execution_count": 13,
     "metadata": {},
     "output_type": "execute_result"
    }
   ],
   "source": [
    "visualizer.fit(buildings_centroid_cluster)\n",
    "visualizer.show()"
   ]
  },
  {
   "cell_type": "markdown",
   "metadata": {},
   "source": [
    "Read more about the elbow method application [here](https://www.scikit-yb.org/en/latest/api/cluster/elbow.html#:~:text=The%20elbow%20method%20runs%20k,point%20to%20its%20assigned%20center.)."
   ]
  },
  {
   "cell_type": "code",
   "execution_count": 14,
   "metadata": {},
   "outputs": [],
   "source": [
    "### Alternative method to calculate the silhuette values -- returned to a dictionary\n",
    "\n",
    "#range_n_clusters = [i+2 for i in range(50)]\n",
    "#sil_dict = dict()\n",
    "#\n",
    "#for n_clusters in range_n_clusters:\n",
    "#    clusterer = KMeans(n_clusters=n_clusters, random_state=10)\n",
    "#    cluster_labels = clusterer.fit_predict(buildings_centroid_cluster)\n",
    "#    \n",
    "#    silhuette_avg = silhouette_score(buildings_centroid_cluster, cluster_labels)\n",
    "#    #print(\"for n clusters equal to \", n_clusters, \"the average silhuette score is\", silhuette_avg)\n",
    "#    sil_dict[n_clusters] = silhuette_avg\n",
    "#    \n",
    "#    sample_silhuette_values = silhouette_samples(buildings_centroid_cluster, cluster_labels)\n",
    "#    \n",
    "## Return the number of cluster for which the average silhuette value is higher\n",
    "#suggested_clust_no = max(sil_dict, key=sil_dict.get)\n",
    "#\n",
    "#print (\"The higher silhuette value ({x}) is provided by using {y} clusters\".\n",
    "#       format(x=sil_dict[suggested_clust_no], y=suggested_clust_no))"
   ]
  },
  {
   "cell_type": "markdown",
   "metadata": {},
   "source": [
    "## Use Euclidean distance to find optimum epsilon distance (eps) "
   ]
  },
  {
   "cell_type": "code",
   "execution_count": 15,
   "metadata": {},
   "outputs": [],
   "source": [
    "from sklearn.neighbors import NearestNeighbors"
   ]
  },
  {
   "cell_type": "code",
   "execution_count": 16,
   "metadata": {},
   "outputs": [],
   "source": [
    "neigh = NearestNeighbors(n_neighbors=2)\n",
    "nbrs = neigh.fit(buildings_centroid_cluster)\n",
    "distances, indices = nbrs.kneighbors(buildings_centroid_cluster)"
   ]
  },
  {
   "cell_type": "code",
   "execution_count": 17,
   "metadata": {},
   "outputs": [],
   "source": [
    "distances = np.sort(distances, axis=0)\n",
    "distances = distances[:,1]\n",
    "\n",
    "# Focus in a particular area\n",
    "distances_focus = distances[distances<200]"
   ]
  },
  {
   "cell_type": "code",
   "execution_count": 18,
   "metadata": {},
   "outputs": [
    {
     "data": {
      "text/plain": [
       "[<matplotlib.lines.Line2D at 0x24ad1fa5788>]"
      ]
     },
     "execution_count": 18,
     "metadata": {},
     "output_type": "execute_result"
    },
    {
     "data": {
      "image/png": "[encoded data removed]",
      "text/plain": [
       "<Figure size 1080x504 with 2 Axes>"
      ]
     },
     "metadata": {},
     "output_type": "display_data"
    }
   ],
   "source": [
    "f = plt.figure(figsize=(15,7))\n",
    "ax = f.add_subplot(121)\n",
    "ax2 = f.add_subplot(122)\n",
    "\n",
    "ax.title.set_text('Elbow Curve')\n",
    "ax.plot(distances)\n",
    "\n",
    "ax2.title.set_text('First Curve Focused')\n",
    "ax2.plot(distances_focus)"
   ]
  },
  {
   "cell_type": "markdown",
   "metadata": {},
   "source": [
    "### Iterate in the focused elbow values to identify the \"optimal\" value"
   ]
  },
  {
   "cell_type": "code",
   "execution_count": 19,
   "metadata": {},
   "outputs": [],
   "source": [
    "range_eps = np.arange(0.0005, 0.001, 0.0001).tolist()\n",
    "sil_dict_2 = dict()"
   ]
  },
  {
   "cell_type": "code",
   "execution_count": 20,
   "metadata": {},
   "outputs": [
    {
     "name": "stdout",
     "output_type": "stream",
     "text": [
      "The higher silhuette value (0.13548779941597616) is provided by using eps=0.0009000000000000002\n"
     ]
    }
   ],
   "source": [
    "for i in range_eps:\n",
    "    #print (\"The eps value is:\", str(i))\n",
    "    db = DBSCAN(eps=i, min_samples=10).fit(buildings_centroid_cluster)\n",
    "    core_samples_mask = np.zeros_like(db.labels_, dtype=bool)\n",
    "    core_samples_mask[db.core_sample_indices_] = True\n",
    "    labels = db.labels_\n",
    "    #print (set(labels))\n",
    "    silhuette_avg = silhouette_score(buildings_centroid_cluster, labels)\n",
    "    sil_dict_2[i] = silhuette_avg\n",
    "    \n",
    "# Return the number of cluster for which the average silhuette value is higher\n",
    "suggested_eps = max(sil_dict_2, key=sil_dict_2.get)\n",
    "\n",
    "print (\"The higher silhuette value ({x}) is provided by using eps={y}\".\n",
    "       format(x=sil_dict_2[suggested_eps], y=suggested_eps)) "
   ]
  },
  {
   "cell_type": "markdown",
   "metadata": {},
   "source": [
    "### Now iterate over different min_sample values (using suggested eps)"
   ]
  },
  {
   "cell_type": "code",
   "execution_count": 21,
   "metadata": {},
   "outputs": [],
   "source": [
    "range_min_sample = [*range(1, 50, 1)] \n",
    "dict_3 = dict()\n",
    "\n",
    "def extract_dict_value(diction, search_value):\n",
    "    search_value = str(search_value)\n",
    "    for key, value in diction.items(): \n",
    "        if value == search_value:\n",
    "            return (key)"
   ]
  },
  {
   "cell_type": "code",
   "execution_count": 22,
   "metadata": {},
   "outputs": [
    {
     "name": "stdout",
     "output_type": "stream",
     "text": [
      "Based on this analysis we can get 5 clusters with min_samples value ~8\n"
     ]
    }
   ],
   "source": [
    "for m in range_min_sample:\n",
    "    db = DBSCAN(eps=suggested_eps, min_samples=m, metric='euclidean').fit(buildings_centroid_cluster)\n",
    "    core_samples_mask = np.zeros_like(db.labels_, dtype=bool)\n",
    "    core_samples_mask[db.core_sample_indices_] = True\n",
    "    labels = set([label for label in db.labels_ if label > 0])\n",
    "    \n",
    "    #print (set(labels))\n",
    "    #print (\"For min sample=\",m, \"the no of clusters are\", str(len(set(labels))))\n",
    "\n",
    "    dict_3[m] = str(len(set(labels)))\n",
    "    \n",
    "# Return the number of cluster for which the average silhuette value is higher\n",
    "target_min_sample = extract_dict_value(dict_3, 5)\n",
    "\n",
    "print (\"Based on this analysis we can get {x} clusters with min_samples value ~{y}\".\n",
    "       format(x=dict_3[target_min_sample], y=target_min_sample)) "
   ]
  },
  {
   "cell_type": "markdown",
   "metadata": {},
   "source": [
    "#### So the above process indicates the following hyperparameters"
   ]
  },
  {
   "cell_type": "code",
   "execution_count": 23,
   "metadata": {},
   "outputs": [
    {
     "name": "stdout",
     "output_type": "stream",
     "text": [
      "Suggested No of clusters: 5\n",
      "Suggested eps is: 100.5 meters\n",
      "Suggested min_samples: 8\n"
     ]
    }
   ],
   "source": [
    "eps_in_meters = round((suggested_eps * (2*3.14 * 6400000)) /360, 1)\n",
    "print (\"Suggested No of clusters:\", dict_3[target_min_sample])\n",
    "print (\"Suggested eps is:\", eps_in_meters , \"meters\")\n",
    "print (\"Suggested min_samples:\", target_min_sample)"
   ]
  },
  {
   "cell_type": "code",
   "execution_count": null,
   "metadata": {},
   "outputs": [],
   "source": []
  },
  {
   "cell_type": "code",
   "execution_count": null,
   "metadata": {},
   "outputs": [],
   "source": []
  },
  {
   "cell_type": "markdown",
   "metadata": {},
   "source": [
    "## Deploying HDBSCAN"
   ]
  },
  {
   "cell_type": "markdown",
   "metadata": {},
   "source": [
    "**Note!**\n",
    "\n",
    "The HDBSCAN algorithm groups all \"remote\" points under index -1; These are considered as noise in the algorithm. The number of clusters as well as what is considered as noise might change based on HDBSCAN parameter calibration. See documentation below.\n",
    "\n",
    "- [sklearn documentation](https://hdbscan.readthedocs.io/en/latest/comparing_clustering_algorithms.html)\n",
    "- [Clustering as feature engineering](https://geographicdata.science/book/notebooks/12_feature_engineering.html?highlight=hdbscan#)\n",
    "- [GitHub repo on HDBSCAN](https://github.com/scikit-learn-contrib/hdbscan/tree/master/notebooks)\n",
    "- [Geographic Clustering with HDBSCAN](https://towardsdatascience.com/geographic-clustering-with-hdbscan-ef8cb0ed6051)\n",
    "- [Evaluation of clustering](https://nlp.stanford.edu/IR-book/html/htmledition/evaluation-of-clustering-1.html)\n",
    "\n",
    "Other\n",
    "\n",
    "- [Exploration of OpenStreetMap Missing Built-up Areas using Twitter Hierarchical Clustering and Deep Learning in Mozambique](https://www.researchgate.net/publication/341371133_Exploration_of_OpenStreetMap_Missing_Built-up_Areas_using_Twitter_Hierarchical_Clustering_and_Deep_Learning_in_Mozambique)\n",
    "- [Understanding the dynamics of urban areas of interest through volunteered geographic information](https://link.springer.com/article/10.1007/s10109-018-0284-3)\n",
    "- [Using Volunteered Geographic Information andNighttime Light Remote Sensing Data to IdentifyTourism Areas of Interest](https://www.mdpi.com/2071-1050/11/17/4718)"
   ]
  },
  {
   "cell_type": "markdown",
   "metadata": {},
   "source": [
    "### Self-tuning for eps and min_sample (soft link with DBSCAN)"
   ]
  },
  {
   "cell_type": "code",
   "execution_count": 24,
   "metadata": {},
   "outputs": [
    {
     "data": {
      "text/plain": [
       "1.5758924965598913e-05"
      ]
     },
     "execution_count": 24,
     "metadata": {},
     "output_type": "execute_result"
    }
   ],
   "source": [
    "earth_perimeter = 40070000.0  # In meters\n",
    "eps_in_radians = eps_in_meters / earth_perimeter * (2 * math.pi)\n",
    "eps_in_radians"
   ]
  },
  {
   "cell_type": "markdown",
   "metadata": {},
   "source": [
    "### Convert coordinates of original geodf to radians for HDBSCAN to work"
   ]
  },
  {
   "cell_type": "code",
   "execution_count": 25,
   "metadata": {
    "scrolled": true
   },
   "outputs": [
    {
     "name": "stderr",
     "output_type": "stream",
     "text": [
      "C:\\Users\\alexl\\anaconda3\\envs\\clustering\\lib\\site-packages\\ipykernel_launcher.py:1: SettingWithCopyWarning: \n",
      "A value is trying to be set on a copy of a slice from a DataFrame.\n",
      "Try using .loc[row_indexer,col_indexer] = value instead\n",
      "\n",
      "See the caveats in the documentation: https://pandas.pydata.org/pandas-docs/stable/user_guide/indexing.html#returning-a-view-versus-a-copy\n",
      "  \"\"\"Entry point for launching an IPython kernel.\n"
     ]
    }
   ],
   "source": [
    "buildings_centroid_cluster['lat'], buildings_centroid_cluster['lon'] = np.radians(buildings_centroid_cluster['lat']), np.radians(buildings_centroid_cluster['lon'])"
   ]
  },
  {
   "cell_type": "code",
   "execution_count": 26,
   "metadata": {},
   "outputs": [],
   "source": [
    "# Fit model\n",
    "buildings_centroid_cluster = StandardScaler().fit_transform(buildings_centroid_cluster)"
   ]
  },
  {
   "cell_type": "code",
   "execution_count": 27,
   "metadata": {},
   "outputs": [],
   "source": [
    "hdb = HDBSCAN(min_cluster_size= target_min_sample,\n",
    "              min_samples= target_min_sample,\n",
    "              metric='haversine',\n",
    "              cluster_selection_epsilon=eps_in_radians, \n",
    "              cluster_selection_method = 'eom',\n",
    "             allow_single_cluster=True).fit(buildings_centroid_cluster)\n",
    "\n",
    "labels = hdb.labels_\n",
    "buildings_centroid[\"HDBSCAN_Cluster_ID\"] = labels"
   ]
  },
  {
   "cell_type": "code",
   "execution_count": 28,
   "metadata": {},
   "outputs": [
    {
     "data": {
      "text/plain": [
       "array([ 4,  2,  0, -1,  1,  3], dtype=int64)"
      ]
     },
     "execution_count": 28,
     "metadata": {},
     "output_type": "execute_result"
    }
   ],
   "source": [
    "# Print ID of identified clusters\n",
    "buildings_centroid.HDBSCAN_Cluster_ID.unique()"
   ]
  },
  {
   "cell_type": "code",
   "execution_count": 29,
   "metadata": {},
   "outputs": [
    {
     "data": {
      "text/plain": [
       "<matplotlib.axes._subplots.AxesSubplot at 0x24ad21b5208>"
      ]
     },
     "execution_count": 29,
     "metadata": {},
     "output_type": "execute_result"
    },
    {
     "data": {
      "image/png": "[encoded data removed]",
      "text/plain": [
       "<Figure size 1080x720 with 2 Axes>"
      ]
     },
     "metadata": {},
     "output_type": "display_data"
    }
   ],
   "source": [
    "plt.figure(figsize=(15,10))\n",
    "hdb.condensed_tree_.plot(select_clusters=True,\n",
    "                         selection_palette=sns.color_palette('deep', 8))"
   ]
  },
  {
   "cell_type": "code",
   "execution_count": 30,
   "metadata": {},
   "outputs": [],
   "source": [
    "#g = hdb.condensed_tree_.to_networkx()\n",
    "#g.number_of_nodes()"
   ]
  },
  {
   "cell_type": "code",
   "execution_count": 31,
   "metadata": {},
   "outputs": [
    {
     "data": {
      "image/png": "[encoded data removed]",
      "text/plain": [
       "<Figure size 1080x1080 with 1 Axes>"
      ]
     },
     "metadata": {},
     "output_type": "display_data"
    }
   ],
   "source": [
    "# Plot clustered buildings\n",
    "fig, ax = plt.subplots(figsize=(15, 15))\n",
    "buildings_centroid.plot(ax=ax, column='HDBSCAN_Cluster_ID', markersize=20, cmap=\"viridis\")\n",
    "ax.set_aspect('equal', 'box')\n",
    "txt = ax.set_title('Clusterized buildings with HDBSCAN -- minSamples:{}'.format(5))\n",
    "ax.grid(False)"
   ]
  },
  {
   "cell_type": "code",
   "execution_count": 32,
   "metadata": {},
   "outputs": [
    {
     "data": {
      "image/png": "[encoded data removed]",
      "text/plain": [
       "<Figure size 720x432 with 1 Axes>"
      ]
     },
     "metadata": {},
     "output_type": "display_data"
    }
   ],
   "source": [
    "fig, ax = plt.subplots(figsize=(10, 6))\n",
    "ax = plt.hist(hdb.probabilities_)"
   ]
  },
  {
   "cell_type": "code",
   "execution_count": 33,
   "metadata": {},
   "outputs": [],
   "source": [
    "labels_true = buildings[\"label_true\"].to_numpy()"
   ]
  },
  {
   "cell_type": "code",
   "execution_count": 34,
   "metadata": {},
   "outputs": [],
   "source": [
    "buildings_centroid[\"True_Cluster_ID\"] = labels_true"
   ]
  },
  {
   "cell_type": "code",
   "execution_count": 35,
   "metadata": {},
   "outputs": [
    {
     "name": "stdout",
     "output_type": "stream",
     "text": [
      "Estimated number of clusters: 5\n",
      "Estimated number of noise points: 17\n",
      "------------\n",
      "Homogeneity: 0.691\n",
      "Completeness: 0.893\n",
      "V-measure: 0.779\n",
      "Adjusted Rand Index: 0.710\n",
      "Adjusted Mutual Information: 0.763\n",
      "Silhouette Coefficient: 0.354\n"
     ]
    }
   ],
   "source": [
    "# Number of clusters in labels, ignoring noise if present.\n",
    "n_clusters_ = len(set(labels)) - (1 if -1 in labels else 0)\n",
    "n_noise_ = list(labels).count(-1)\n",
    "\n",
    "print('Estimated number of clusters: %d' % n_clusters_)\n",
    "print('Estimated number of noise points: %d' % n_noise_)\n",
    "print(\"------------\")\n",
    "print(\"Homogeneity: %0.3f\" % metrics.homogeneity_score(labels_true, labels))\n",
    "print(\"Completeness: %0.3f\" % metrics.completeness_score(labels_true, labels))\n",
    "print(\"V-measure: %0.3f\" % metrics.v_measure_score(labels_true, labels))\n",
    "print(\"Adjusted Rand Index: %0.3f\"\n",
    "      % metrics.adjusted_rand_score(labels_true, labels))\n",
    "print(\"Adjusted Mutual Information: %0.3f\"\n",
    "      % metrics.adjusted_mutual_info_score(labels_true, labels))\n",
    "print(\"Silhouette Coefficient: %0.3f\"\n",
    "      % metrics.silhouette_score(buildings_centroid_cluster, labels))"
   ]
  },
  {
   "cell_type": "code",
   "execution_count": null,
   "metadata": {},
   "outputs": [],
   "source": []
  },
  {
   "cell_type": "markdown",
   "metadata": {},
   "source": [
    "# Create surrounding geometries"
   ]
  },
  {
   "cell_type": "code",
   "execution_count": 36,
   "metadata": {},
   "outputs": [
    {
     "data": {
      "text/html": [
       "<div>\n",
       "<style scoped>\n",
       "    .dataframe tbody tr th:only-of-type {\n",
       "        vertical-align: middle;\n",
       "    }\n",
       "\n",
       "    .dataframe tbody tr th {\n",
       "        vertical-align: top;\n",
       "    }\n",
       "\n",
       "    .dataframe thead th {\n",
       "        text-align: right;\n",
       "    }\n",
       "</style>\n",
       "<table border=\"1\" class=\"dataframe\">\n",
       "  <thead>\n",
       "    <tr style=\"text-align: right;\">\n",
       "      <th></th>\n",
       "      <th>geometry</th>\n",
       "      <th>lon</th>\n",
       "      <th>lat</th>\n",
       "      <th>HDBSCAN_Cluster_ID</th>\n",
       "      <th>True_Cluster_ID</th>\n",
       "    </tr>\n",
       "  </thead>\n",
       "  <tbody>\n",
       "    <tr>\n",
       "      <th>0</th>\n",
       "      <td>POINT (29.63082 -1.08291)</td>\n",
       "      <td>29.630823</td>\n",
       "      <td>-1.082906</td>\n",
       "      <td>4</td>\n",
       "      <td>2</td>\n",
       "    </tr>\n",
       "    <tr>\n",
       "      <th>1</th>\n",
       "      <td>POINT (29.63460 -1.09540)</td>\n",
       "      <td>29.634603</td>\n",
       "      <td>-1.095395</td>\n",
       "      <td>2</td>\n",
       "      <td>5</td>\n",
       "    </tr>\n",
       "    <tr>\n",
       "      <th>2</th>\n",
       "      <td>POINT (29.64456 -1.10170)</td>\n",
       "      <td>29.644555</td>\n",
       "      <td>-1.101703</td>\n",
       "      <td>0</td>\n",
       "      <td>7</td>\n",
       "    </tr>\n",
       "  </tbody>\n",
       "</table>\n",
       "</div>"
      ],
      "text/plain": [
       "                    geometry        lon       lat  HDBSCAN_Cluster_ID  \\\n",
       "0  POINT (29.63082 -1.08291)  29.630823 -1.082906                   4   \n",
       "1  POINT (29.63460 -1.09540)  29.634603 -1.095395                   2   \n",
       "2  POINT (29.64456 -1.10170)  29.644555 -1.101703                   0   \n",
       "\n",
       "   True_Cluster_ID  \n",
       "0                2  \n",
       "1                5  \n",
       "2                7  "
      ]
     },
     "execution_count": 36,
     "metadata": {},
     "output_type": "execute_result"
    }
   ],
   "source": [
    "buildings_centroid.head(3)"
   ]
  },
  {
   "cell_type": "code",
   "execution_count": 37,
   "metadata": {},
   "outputs": [],
   "source": [
    "# Re-Projecting geodataframe to coordinate system \n",
    "buildings_centroid = buildings_centroid.to_crs({'init': proj_crs})"
   ]
  },
  {
   "cell_type": "code",
   "execution_count": 38,
   "metadata": {},
   "outputs": [],
   "source": [
    "buildings_centroid.to_file(workspace + r\"/Clusters_HDBSCAN_self_tuned.shp\")"
   ]
  },
  {
   "cell_type": "markdown",
   "metadata": {},
   "source": [
    "## Calculate Convex hull -- Not optimal"
   ]
  },
  {
   "cell_type": "code",
   "execution_count": 39,
   "metadata": {},
   "outputs": [],
   "source": [
    "# Dissolve all geometries by cluster ID\n",
    "buildings_centroid_dissolved = buildings_centroid.dissolve(by=\"HDBSCAN_Cluster_ID\")\n",
    "\n",
    "# Eliminate buildings classified as -1 as they will distort the convex hull process\n",
    "buildings_centroid_dissolved_non_clustered = buildings_centroid_dissolved[buildings_centroid_dissolved.index != -1]\n",
    "\n",
    "# Calculate convex hull\n",
    "buildings_polygons = buildings_centroid_dissolved_non_clustered.convex_hull\n",
    "\n",
    "# Convert to geodataframe\n",
    "buildings_polygons_gdf = gpd.GeoDataFrame(geometry=buildings_polygons)\n",
    "\n",
    "# Re-aligh coordinate system\n",
    "buildings_polygons_gdf.crs = {'init': proj_crs}\n",
    "buildings_polygons_gdf = buildings_polygons_gdf.to_crs({'init': def_crs})\n",
    "\n",
    "# Export gdf as as gpkg\n",
    "buildings_polygons_gdf.to_file(workspace + r\"/Sample_Convex_Clusters_HDBSCAN_self_tuned.shp\")"
   ]
  },
  {
   "cell_type": "markdown",
   "metadata": {},
   "source": [
    "## Calculate Concave Hull -- Better option"
   ]
  },
  {
   "cell_type": "code",
   "execution_count": 40,
   "metadata": {},
   "outputs": [],
   "source": [
    "def get_cluster_geometry(data_frame, col, def_crs, proj_crs, prefix, prefix_non_cluster, alpha=None):\n",
    "    \"\"\"\n",
    "        Calculates the concave hull for a set of points that are classified by a Cluster_ID\n",
    "        \n",
    "        :data_frame: A geo-dataframe that contains a set of points; it shall contain a 'Cluster_ID' column that provides the cluster id that each points belongs to\n",
    "        \n",
    "        :alpha: float alpha value (e.g. 2.0); in case alpha is not defined, the algoritm will try to optimize the alpha value (look here https://pypi.org/project/alphashape/)\n",
    "        \n",
    "        :return: Two shp files; one containing the concave hull polygons and another the set of points that do not belong to a cluster\n",
    "        \n",
    "    \"\"\"\n",
    "    \n",
    "    # Get the unique cluster index as provided by the DBSCAN algorithm\n",
    "    clustering_index = np.unique(data_frame[col].values)\n",
    "    \n",
    "    # Create two lists; one for unclustered points and another for clustered points that will form the polygons\n",
    "    points = clustering_index[:1]\n",
    "    clusters = clustering_index[1:]\n",
    "    \n",
    "    # First deal with points that are not clustered (value: -1); Get them and create a gdf from them\n",
    "    points_df = data_frame.loc[data_frame[col] == points[0], ['geometry']]\n",
    "    points_gdf = polygon_gdf = gpd.GeoDataFrame(points_df, geometry='geometry')\n",
    "    points_gdf.crs = {'init': proj_crs}\n",
    "    points_gdf = points_gdf.to_crs({'init': def_crs})\n",
    "\n",
    "    # Then create the concave hull for each cluster of points\n",
    "    polygons = list()\n",
    "    cluster_numbers = list()\n",
    "\n",
    "    for cluster in clusters:\n",
    "        # Filter out the cluster points\n",
    "        points_df = data_frame.loc[data_frame[col] == cluster, ['geometry']]\n",
    "        \n",
    "        # Then call the alpha_spape function; in case alpha is not defined, the algoritm will try to optimize the alpha value (look here https://pypi.org/project/alphashape/)\n",
    "        alpha_shape = alphashape.alphashape(points_df, alpha=alpha)\n",
    "        \n",
    "        # Append polygon number & geometry to a geoseries\n",
    "        polygons.append(alpha_shape['geometry'][0])\n",
    "        cluster_numbers.append(cluster)\n",
    "        \n",
    "    # Createa pandas data frame to store the concave hull polygons\n",
    "    polygon_df = pd.DataFrame.from_dict(data={'cluster': cluster_numbers, 'geometry': polygons})\n",
    "    \n",
    "    # Create the GeoPandas data frame to display on the map\n",
    "    polygon_gdf = gpd.GeoDataFrame(polygon_df)\n",
    "    \n",
    "    # Add buffer so that buildings are enclosed within the polygon (OPTIONAL)\n",
    "    polygon_gdf['geometry'] = polygon_gdf.geometry.buffer(5)   # im meters\n",
    "    \n",
    "    # Revert dataframe to common CRS\n",
    "    polygon_gdf.crs = {'init': proj_crs}\n",
    "    polygon_gdf = polygon_gdf.to_crs({'init': def_crs})\n",
    "    \n",
    "    # Export the two geodataframes \n",
    "    points_gdf.to_file(workspace + prefix_non_cluster)\n",
    "    polygon_gdf.to_file(workspace + prefix_cluster)"
   ]
  },
  {
   "cell_type": "code",
   "execution_count": 41,
   "metadata": {},
   "outputs": [],
   "source": [
    "col='HDBSCAN_Cluster_ID'\n",
    "prefix_cluster = r'/Sample_Concave_clustered_buildings_HDBSCAN_self_tuned.shp'\n",
    "prefix_non_cluster = r'/Sample_Concave_non_clustered_buildings_HDBSCAN_self_tuned.shp'"
   ]
  },
  {
   "cell_type": "code",
   "execution_count": 42,
   "metadata": {},
   "outputs": [],
   "source": [
    "get_cluster_geometry(buildings_centroid, col, def_crs, proj_crs, prefix_cluster, prefix_non_cluster)"
   ]
  },
  {
   "cell_type": "markdown",
   "metadata": {},
   "source": [
    "## Plot results"
   ]
  },
  {
   "cell_type": "code",
   "execution_count": 43,
   "metadata": {},
   "outputs": [],
   "source": [
    "# Define path and name of the geometry file\n",
    "path = r\"C:\\Users\\alexl\\Dropbox\\Self-employment\\WBG\\Work\\GEP\\clustering_process\\DBSCAN_Clustering\\Sample_Output\"\n",
    "name_shp_HDBSCAN = \"Sample_Concave_clustered_buildings_HDBSCAN_self_tuned.shp\"\n",
    "name_shp_True = \"Sample_Concave_clustered_buildings_true.shp\""
   ]
  },
  {
   "cell_type": "code",
   "execution_count": 44,
   "metadata": {},
   "outputs": [],
   "source": [
    "# Create a new geo-dataframe(s)\n",
    "geom_gdf_HDBSCAN = gpd.read_file(path + \"\\\\\" + name_shp_HDBSCAN)\n",
    "geom_gdf_True = gpd.read_file(path + \"\\\\\" + name_shp_True)"
   ]
  },
  {
   "cell_type": "code",
   "execution_count": 46,
   "metadata": {},
   "outputs": [
    {
     "data": {
      "application/vnd.jupyter.widget-view+json": {
       "model_id": "9478fe6b93db4f239a641976d6679a10",
       "version_major": 2,
       "version_minor": 0
      },
      "text/plain": [
       "Map(center=[-1.0829060000000001, 29.630823], controls=(ZoomControl(options=['position', 'zoom_in_text', 'zoom_…"
      ]
     },
     "metadata": {},
     "output_type": "display_data"
    }
   ],
   "source": [
    "m = Map(\n",
    "    basemap=basemap_to_tiles(basemaps.OpenStreetMap.HOT),\n",
    "    center=(buildings.geometry.centroid[0].y, buildings.geometry.centroid[0].x),\n",
    "    zoom=13)\n",
    "\n",
    "building_data = GeoData(geo_dataframe = buildings,\n",
    "                       style={'color': 'black', 'opacity':3, 'weight':1.9, 'dashArray':'2', 'fillOpacity':0.6},\n",
    "                       hover_style={'fillColor': 'red' , 'fillOpacity': 0.2},\n",
    "                       name = 'Buildings')\n",
    "\n",
    "HDBSCAN_geom = GeoData(geo_dataframe = geom_gdf_HDBSCAN,\n",
    "                     style={'color': 'black', 'fillColor': '#3366cc', 'opacity':0.05, 'weight':1.9, 'dashArray':'2', 'fillOpacity':0.6},\n",
    "                     hover_style={'fillColor': 'red' , 'fillOpacity': 0.2},\n",
    "                     name = 'HDBSCAN self-tuned')\n",
    "\n",
    "true_geom = GeoData(geo_dataframe = geom_gdf_True,\n",
    "                     style={'color': 'black', 'fillColor': '#3366cc', 'opacity':0.05, 'weight':1.9, 'dashArray':'2', 'fillOpacity':0.6},\n",
    "                     hover_style={'fillColor': 'red' , 'fillOpacity': 0.2},\n",
    "                     name = 'true geometries')\n",
    "\n",
    "m.add_layer(building_data)\n",
    "m.add_layer(HDBSCAN_geom)\n",
    "m.add_layer(true_geom)\n",
    "\n",
    "m.add_control(LayersControl())\n",
    "\n",
    "m"
   ]
  },
  {
   "cell_type": "code",
   "execution_count": null,
   "metadata": {},
   "outputs": [],
   "source": []
  }
 ],
 "metadata": {
  "kernelspec": {
   "display_name": "Python 3",
   "language": "python",
   "name": "python3"
  },
  "language_info": {
   "codemirror_mode": {
    "name": "ipython",
    "version": 3
   },
   "file_extension": ".py",
   "mimetype": "text/x-python",
   "name": "python",
   "nbconvert_exporter": "python",
   "pygments_lexer": "ipython3",
   "version": "3.7.6"
  }
 },
 "nbformat": 4,
 "nbformat_minor": 2
}
