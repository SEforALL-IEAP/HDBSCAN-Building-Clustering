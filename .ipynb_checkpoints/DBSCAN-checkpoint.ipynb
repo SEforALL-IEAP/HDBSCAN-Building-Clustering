{
 "cells": [
  {
   "cell_type": "markdown",
   "metadata": {},
   "source": [
    "# Population clusters with HDBSCAN\n",
    "\n",
    "**Original code**: [Alexandros Korkovelos](https://github.com/akorkovelos)<br>\n",
    "**Conceptualization & Methodological review** : [Alexandros Korkovelos](https://github.com/akorkovelos)<br>\n",
    "**Updates, Modifications**: [Alexandros Korkovelos](https://github.com/akorkovelos)<br>"
   ]
  },
  {
   "cell_type": "markdown",
   "metadata": {},
   "source": [
    "## Importing packages"
   ]
  },
  {
   "cell_type": "code",
   "execution_count": 50,
   "metadata": {},
   "outputs": [],
   "source": [
    "# Operational\n",
    "import os\n",
    "import tkinter as tk\n",
    "from tkinter import filedialog, messagebox\n",
    "root = tk.Tk()\n",
    "root.withdraw()\n",
    "root.attributes(\"-topmost\", True)\n",
    "\n",
    "# Numerical\n",
    "import geopandas as gpd\n",
    "import pandas as pd\n",
    "import numpy as np\n",
    "import math\n",
    "\n",
    "import alphashape\n",
    "from descartes import PolygonPatch\n",
    "\n",
    "# ML related\n",
    "from sklearn.cluster import DBSCAN\n",
    "from hdbscan import HDBSCAN\n",
    "import sklearn.utils\n",
    "from sklearn.preprocessing import StandardScaler\n",
    "from sklearn import metrics\n",
    "\n",
    "\n",
    "# Mapping\n",
    "import contextily as ctx\n",
    "from ipyleaflet import *\n",
    "\n",
    "# Graphs and plotting\n",
    "import seaborn as sns\n",
    "\n",
    "import matplotlib.pyplot as plt\n",
    "%matplotlib inline"
   ]
  },
  {
   "cell_type": "code",
   "execution_count": 51,
   "metadata": {},
   "outputs": [],
   "source": [
    "# Coordinate system in EPSG registry\n",
    "proj_crs = \"epsg:32736\"\n",
    "def_crs = \"epsg:4326\""
   ]
  },
  {
   "cell_type": "markdown",
   "metadata": {},
   "source": [
    "## Import & prepare building footprint dataset"
   ]
  },
  {
   "cell_type": "markdown",
   "metadata": {},
   "source": [
    "#### Importing dataset "
   ]
  },
  {
   "cell_type": "code",
   "execution_count": 52,
   "metadata": {},
   "outputs": [],
   "source": [
    "messagebox.showinfo('Extraction directory', 'Output folder')\n",
    "workspace = filedialog.askdirectory()\n",
    "\n",
    "filename_building_footprint = (filedialog.askopenfilename(filetypes = ((\"geopackage\",\"*.gpkg\"),(\"all files\",\"*.*\"))))\n",
    "buildings=gpd.read_file(filename_building_footprint)"
   ]
  },
  {
   "cell_type": "code",
   "execution_count": 53,
   "metadata": {},
   "outputs": [
    {
     "data": {
      "application/vnd.jupyter.widget-view+json": {
       "model_id": "83b10699a4a24a788d80b336e632e5d4",
       "version_major": 2,
       "version_minor": 0
      },
      "text/plain": [
       "Map(center=[-1.0829060000000001, 29.630823], controls=(ZoomControl(options=['position', 'zoom_in_text', 'zoom_…"
      ]
     },
     "metadata": {},
     "output_type": "display_data"
    }
   ],
   "source": [
    "m = Map(\n",
    "    basemap=basemap_to_tiles(basemaps.OpenStreetMap.HOT),\n",
    "    center=(buildings.geometry.centroid[0].y, buildings.geometry.centroid[0].x),\n",
    "    zoom=13)\n",
    "\n",
    "building_data = GeoData(geo_dataframe = buildings,\n",
    "                       style={'color': 'black', 'opacity':3, 'weight':1.9, 'dashArray':'2', 'fillOpacity':0.6},\n",
    "                       hover_style={'fillColor': 'red' , 'fillOpacity': 0.2},\n",
    "                       name = 'Buildings')\n",
    "\n",
    "m.add_layer(building_data)\n",
    "\n",
    "m"
   ]
  },
  {
   "cell_type": "code",
   "execution_count": 54,
   "metadata": {},
   "outputs": [],
   "source": [
    "## Alternative plotting of the geo-dataframe\n",
    "\n",
    "#fig, ax = plt.subplots(figsize=(15, 15))\n",
    "#buildings.plot(ax=ax)\n",
    "#ax.set_aspect('equal', 'box')\n",
    "#txt = ax.set_title('Dictribution of buildings in the AOI'.format(\"\"))"
   ]
  },
  {
   "cell_type": "markdown",
   "metadata": {},
   "source": [
    "#### Preping dataset"
   ]
  },
  {
   "cell_type": "code",
   "execution_count": 55,
   "metadata": {},
   "outputs": [],
   "source": [
    "# Getting centroids of buildings\n",
    "buildings_cent = buildings.centroid"
   ]
  },
  {
   "cell_type": "code",
   "execution_count": 56,
   "metadata": {},
   "outputs": [],
   "source": [
    "buildings_centroid = gpd.GeoDataFrame(geometry=buildings_cent)"
   ]
  },
  {
   "cell_type": "code",
   "execution_count": 57,
   "metadata": {},
   "outputs": [],
   "source": [
    "# Projecting geodataframe to coordinate system \n",
    "#buildings_centroid = buildings_centroid.to_crs({'init': proj_crs})\n",
    "\n",
    "## Creating lon/lat columns\n",
    "buildings_centroid['lon'] = buildings_centroid[\"geometry\"].x\n",
    "buildings_centroid['lat'] = buildings_centroid[\"geometry\"].y"
   ]
  },
  {
   "cell_type": "code",
   "execution_count": 58,
   "metadata": {},
   "outputs": [],
   "source": [
    "# Preping the dataframe used to fit the clustering algorithm \n",
    "buildings_centroid_cluster = buildings_centroid[['lon', 'lat']]"
   ]
  },
  {
   "cell_type": "code",
   "execution_count": 59,
   "metadata": {},
   "outputs": [
    {
     "data": {
      "text/html": [
       "<div>\n",
       "<style scoped>\n",
       "    .dataframe tbody tr th:only-of-type {\n",
       "        vertical-align: middle;\n",
       "    }\n",
       "\n",
       "    .dataframe tbody tr th {\n",
       "        vertical-align: top;\n",
       "    }\n",
       "\n",
       "    .dataframe thead th {\n",
       "        text-align: right;\n",
       "    }\n",
       "</style>\n",
       "<table border=\"1\" class=\"dataframe\">\n",
       "  <thead>\n",
       "    <tr style=\"text-align: right;\">\n",
       "      <th></th>\n",
       "      <th>lon</th>\n",
       "      <th>lat</th>\n",
       "    </tr>\n",
       "  </thead>\n",
       "  <tbody>\n",
       "    <tr>\n",
       "      <th>0</th>\n",
       "      <td>29.630823</td>\n",
       "      <td>-1.082906</td>\n",
       "    </tr>\n",
       "    <tr>\n",
       "      <th>1</th>\n",
       "      <td>29.634603</td>\n",
       "      <td>-1.095395</td>\n",
       "    </tr>\n",
       "    <tr>\n",
       "      <th>2</th>\n",
       "      <td>29.644555</td>\n",
       "      <td>-1.101703</td>\n",
       "    </tr>\n",
       "  </tbody>\n",
       "</table>\n",
       "</div>"
      ],
      "text/plain": [
       "         lon       lat\n",
       "0  29.630823 -1.082906\n",
       "1  29.634603 -1.095395\n",
       "2  29.644555 -1.101703"
      ]
     },
     "execution_count": 59,
     "metadata": {},
     "output_type": "execute_result"
    }
   ],
   "source": [
    "# Example output \n",
    "buildings_centroid_cluster.head(3)"
   ]
  },
  {
   "cell_type": "code",
   "execution_count": null,
   "metadata": {},
   "outputs": [],
   "source": []
  },
  {
   "cell_type": "code",
   "execution_count": null,
   "metadata": {},
   "outputs": [],
   "source": []
  },
  {
   "cell_type": "markdown",
   "metadata": {},
   "source": [
    "## Running DBSCAL algorithm"
   ]
  },
  {
   "cell_type": "markdown",
   "metadata": {},
   "source": [
    "**Note!**\n",
    "\n",
    "The DBSCAN algorith groups all \"remote\" points under index -1; These are considered as noise in the algorith. The number of clusters as well as what is considered as noise might change based on DBSCAN parameter calibration. See documentation here.\n",
    "\n",
    "- [sklearn documentation](https://scikit-learn.org/stable/modules/clustering.html#dbscan)\n",
    "- [DBSCAN Algorithm: Complete Guide and Application with Python Scikit-Learn](https://towardsdatascience.com/dbscan-algorithm-complete-guide-and-application-with-python-scikit-learn-d690cbae4c5d)\n",
    "- [Ester M. et al](https://www.aaai.org/Papers/KDD/1996/KDD96-037.pdf)\n",
    "- [Evaluation of clustering](https://nlp.stanford.edu/IR-book/html/htmledition/evaluation-of-clustering-1.html)\n",
    "- [A Step by Step approach to Solve DBSCAN Algorithms by tuning its hyper parameters](https://medium.com/@mohantysandip/a-step-by-step-approach-to-solve-dbscan-algorithms-by-tuning-its-hyper-parameters-93e693a91289)\n",
    "\n",
    "Other\n",
    "\n",
    "- [Geospatial Clustering: Kinds and Uses](https://towardsdatascience.com/geospatial-clustering-kinds-and-uses-9aef7601f386#:~:text=The%20most%20well%20known%20density,with%20the%20application%20of%20noise%20.&text=DBSCAN%20algorithm%20visits%20every%20point,point%20is%20defined%20as%20noise.)\n",
    "- [Qgis DBSCAN](https://docs.qgis.org/3.4/en/docs/user_manual/processing_algs/qgis/vectoranalysis.html?highlight=dbscan#dbscan-clustering)\n"
   ]
  },
  {
   "cell_type": "code",
   "execution_count": 60,
   "metadata": {},
   "outputs": [
    {
     "name": "stderr",
     "output_type": "stream",
     "text": [
      "C:\\Users\\alexl\\anaconda3\\envs\\clustering\\lib\\site-packages\\ipykernel_launcher.py:1: SettingWithCopyWarning: \n",
      "A value is trying to be set on a copy of a slice from a DataFrame.\n",
      "Try using .loc[row_indexer,col_indexer] = value instead\n",
      "\n",
      "See the caveats in the documentation: https://pandas.pydata.org/pandas-docs/stable/user_guide/indexing.html#returning-a-view-versus-a-copy\n",
      "  \"\"\"Entry point for launching an IPython kernel.\n"
     ]
    }
   ],
   "source": [
    "buildings_centroid_cluster['lat'], buildings_centroid_cluster['lon'] = np.radians(buildings_centroid_cluster['lat']), np.radians(buildings_centroid_cluster['lon'])"
   ]
  },
  {
   "cell_type": "code",
   "execution_count": 61,
   "metadata": {},
   "outputs": [],
   "source": [
    "# Fit model\n",
    "buildings_centroid_cluster = StandardScaler().fit_transform(buildings_centroid_cluster)"
   ]
  },
  {
   "cell_type": "code",
   "execution_count": 62,
   "metadata": {},
   "outputs": [],
   "source": [
    "# Run DBSCAN; For more info on the input variables look here: https://scikit-learn.org/stable/modules/clustering.html#dbscan\n",
    "db = DBSCAN(eps=0.3, \n",
    "            min_samples=5, \n",
    "            metric='haversine').fit(buildings_centroid_cluster)\n",
    "\n",
    "labels = db.labels_\n",
    "buildings_centroid[\"DBSCAN_Cluster_ID\"] = labels"
   ]
  },
  {
   "cell_type": "code",
   "execution_count": 63,
   "metadata": {},
   "outputs": [
    {
     "data": {
      "text/plain": [
       "array([ 0,  1,  2, -1,  3,  4,  5,  6], dtype=int64)"
      ]
     },
     "execution_count": 63,
     "metadata": {},
     "output_type": "execute_result"
    }
   ],
   "source": [
    "# Print ID of identified clusters\n",
    "buildings_centroid.DBSCAN_Cluster_ID.unique()"
   ]
  },
  {
   "cell_type": "code",
   "execution_count": 64,
   "metadata": {},
   "outputs": [
    {
     "data": {
      "image/png": "[encoded data removed]",
      "text/plain": [
       "<Figure size 1080x1080 with 1 Axes>"
      ]
     },
     "metadata": {
      "needs_background": "light"
     },
     "output_type": "display_data"
    }
   ],
   "source": [
    "# Plot clustered buildings\n",
    "fig, ax = plt.subplots(figsize=(15, 15))\n",
    "buildings_centroid.plot(ax=ax, column='DBSCAN_Cluster_ID', markersize=20, cmap=\"viridis\")\n",
    "ax.set_aspect('equal', 'box')\n",
    "txt = ax.set_title('Clusterized buildings with DBSCAN -- eps:{} -- minSamples:{}'.format(0.5, 5))\n",
    "ax.grid(False)"
   ]
  },
  {
   "cell_type": "markdown",
   "metadata": {},
   "source": [
    "# Create surrounding geometries"
   ]
  },
  {
   "cell_type": "code",
   "execution_count": 65,
   "metadata": {},
   "outputs": [
    {
     "data": {
      "text/html": [
       "<div>\n",
       "<style scoped>\n",
       "    .dataframe tbody tr th:only-of-type {\n",
       "        vertical-align: middle;\n",
       "    }\n",
       "\n",
       "    .dataframe tbody tr th {\n",
       "        vertical-align: top;\n",
       "    }\n",
       "\n",
       "    .dataframe thead th {\n",
       "        text-align: right;\n",
       "    }\n",
       "</style>\n",
       "<table border=\"1\" class=\"dataframe\">\n",
       "  <thead>\n",
       "    <tr style=\"text-align: right;\">\n",
       "      <th></th>\n",
       "      <th>geometry</th>\n",
       "      <th>lon</th>\n",
       "      <th>lat</th>\n",
       "      <th>DBSCAN_Cluster_ID</th>\n",
       "    </tr>\n",
       "  </thead>\n",
       "  <tbody>\n",
       "    <tr>\n",
       "      <th>0</th>\n",
       "      <td>POINT (29.63082 -1.08291)</td>\n",
       "      <td>29.630823</td>\n",
       "      <td>-1.082906</td>\n",
       "      <td>0</td>\n",
       "    </tr>\n",
       "    <tr>\n",
       "      <th>1</th>\n",
       "      <td>POINT (29.63460 -1.09540)</td>\n",
       "      <td>29.634603</td>\n",
       "      <td>-1.095395</td>\n",
       "      <td>1</td>\n",
       "    </tr>\n",
       "    <tr>\n",
       "      <th>2</th>\n",
       "      <td>POINT (29.64456 -1.10170)</td>\n",
       "      <td>29.644555</td>\n",
       "      <td>-1.101703</td>\n",
       "      <td>2</td>\n",
       "    </tr>\n",
       "  </tbody>\n",
       "</table>\n",
       "</div>"
      ],
      "text/plain": [
       "                    geometry        lon       lat  DBSCAN_Cluster_ID\n",
       "0  POINT (29.63082 -1.08291)  29.630823 -1.082906                  0\n",
       "1  POINT (29.63460 -1.09540)  29.634603 -1.095395                  1\n",
       "2  POINT (29.64456 -1.10170)  29.644555 -1.101703                  2"
      ]
     },
     "execution_count": 65,
     "metadata": {},
     "output_type": "execute_result"
    }
   ],
   "source": [
    "buildings_centroid.head(3)"
   ]
  },
  {
   "cell_type": "code",
   "execution_count": 66,
   "metadata": {},
   "outputs": [],
   "source": [
    "# Re-Projecting geodataframe to coordinate system \n",
    "buildings_centroid = buildings_centroid.to_crs({'init': proj_crs})"
   ]
  },
  {
   "cell_type": "code",
   "execution_count": 67,
   "metadata": {},
   "outputs": [],
   "source": [
    "buildings_centroid.to_file(workspace + r\"/Clusters_DBSCAN.shp\")"
   ]
  },
  {
   "cell_type": "markdown",
   "metadata": {},
   "source": [
    "## Calculate Convex hull -- Not optimal"
   ]
  },
  {
   "cell_type": "code",
   "execution_count": 68,
   "metadata": {},
   "outputs": [],
   "source": [
    "# Dissolve all geometries by cluster ID\n",
    "buildings_centroid_dissolved = buildings_centroid.dissolve(by=\"DBSCAN_Cluster_ID\")\n",
    "\n",
    "# Eliminate buildings classified as -1 as they will distort the convex hull process\n",
    "buildings_centroid_dissolved_non_clustered = buildings_centroid_dissolved[buildings_centroid_dissolved.index != -1]\n",
    "\n",
    "# Calculate convex hull\n",
    "buildings_polygons = buildings_centroid_dissolved_non_clustered.convex_hull\n",
    "\n",
    "# Convert to geodataframe\n",
    "buildings_polygons_gdf = gpd.GeoDataFrame(geometry=buildings_polygons)\n",
    "\n",
    "# Re-aligh coordinate system\n",
    "buildings_polygons_gdf.crs = {'init': proj_crs}\n",
    "buildings_polygons_gdf = buildings_polygons_gdf.to_crs({'init': def_crs})\n",
    "\n",
    "# Export gdf as as gpkg\n",
    "buildings_polygons_gdf.to_file(workspace + r\"/Sample_Convex_Clusters_DBSCAN.shp\")"
   ]
  },
  {
   "cell_type": "markdown",
   "metadata": {},
   "source": [
    "## Calculate Concave Hull -- Better option"
   ]
  },
  {
   "cell_type": "code",
   "execution_count": 69,
   "metadata": {},
   "outputs": [],
   "source": [
    "def get_cluster_geometry(data_frame, col, def_crs, proj_crs, prefix, prefix_non_cluster, alpha=None):\n",
    "    \"\"\"\n",
    "        Calculates the concave hull for a set of points that are classified by a Cluster_ID\n",
    "        \n",
    "        :data_frame: A geo-dataframe that contains a set of points; it shall contain a 'Cluster_ID' column that provides the cluster id that each points belongs to\n",
    "        \n",
    "        :alpha: float alpha value (e.g. 2.0); in case alpha is not defined, the algoritm will try to optimize the alpha value (look here https://pypi.org/project/alphashape/)\n",
    "        \n",
    "        :return: Two shp files; one containing the concave hull polygons and another the set of points that do not belong to a cluster\n",
    "        \n",
    "    \"\"\"\n",
    "    \n",
    "    # Get the unique cluster index as provided by the DBSCAN algorithm\n",
    "    clustering_index = np.unique(data_frame[col].values)\n",
    "    \n",
    "    # Create two lists; one for unclustered points and another for clustered points that will form the polygons\n",
    "    points = clustering_index[:1]\n",
    "    clusters = clustering_index[1:]\n",
    "    \n",
    "    # First deal with points that are not clustered (value: -1); Get them and create a gdf from them\n",
    "    points_df = data_frame.loc[data_frame[col] == points[0], ['geometry']]\n",
    "    points_gdf = polygon_gdf = gpd.GeoDataFrame(points_df, geometry='geometry')\n",
    "    points_gdf.crs = {'init': proj_crs}\n",
    "    points_gdf = points_gdf.to_crs({'init': def_crs})\n",
    "\n",
    "    # Then create the concave hull for each cluster of points\n",
    "    polygons = list()\n",
    "    cluster_numbers = list()\n",
    "\n",
    "    for cluster in clusters:\n",
    "        # Filter out the cluster points\n",
    "        points_df = data_frame.loc[data_frame[col] == cluster, ['geometry']]\n",
    "        \n",
    "        # Then call the alpha_spape function; in case alpha is not defined, the algoritm will try to optimize the alpha value (look here https://pypi.org/project/alphashape/)\n",
    "        alpha_shape = alphashape.alphashape(points_df, alpha=alpha)\n",
    "        \n",
    "        # Append polygon number & geometry to a geoseries\n",
    "        polygons.append(alpha_shape['geometry'][0])\n",
    "        cluster_numbers.append(cluster)\n",
    "        \n",
    "    # Createa pandas data frame to store the concave hull polygons\n",
    "    polygon_df = pd.DataFrame.from_dict(data={'cluster': cluster_numbers, 'geometry': polygons})\n",
    "    \n",
    "    # Create the GeoPandas data frame to display on the map\n",
    "    polygon_gdf = gpd.GeoDataFrame(polygon_df)\n",
    "    \n",
    "    # Add buffer so that buildings are enclosed within the polygon (OPTIONAL)\n",
    "    polygon_gdf['geometry'] = polygon_gdf.geometry.buffer(5)   # im meters\n",
    "    \n",
    "    # Revert dataframe to common CRS\n",
    "    polygon_gdf.crs = {'init': proj_crs}\n",
    "    polygon_gdf = polygon_gdf.to_crs({'init': def_crs})\n",
    "    \n",
    "    # Export the two geodataframes \n",
    "    points_gdf.to_file(workspace + prefix_non_cluster)\n",
    "    polygon_gdf.to_file(workspace + prefix_cluster)"
   ]
  },
  {
   "cell_type": "code",
   "execution_count": 70,
   "metadata": {},
   "outputs": [],
   "source": [
    "col='DBSCAN_Cluster_ID'\n",
    "prefix_cluster = r'/Sample_Concave_clustered_buildings_DBSCAN.shp'\n",
    "prefix_non_cluster = r'/Sample_Concave_non_clustered_buildings_DBSCAN.shp'"
   ]
  },
  {
   "cell_type": "code",
   "execution_count": 71,
   "metadata": {},
   "outputs": [],
   "source": [
    "get_cluster_geometry(buildings_centroid, col, def_crs, proj_crs, prefix_cluster, prefix_non_cluster)"
   ]
  },
  {
   "cell_type": "markdown",
   "metadata": {},
   "source": [
    "## Plot results"
   ]
  },
  {
   "cell_type": "code",
   "execution_count": 72,
   "metadata": {},
   "outputs": [],
   "source": [
    "# Define path and name of the geometry file\n",
    "path = r\"C:\\Users\\alexl\\Dropbox\\Self-employment\\WBG\\Work\\GEP\\clustering_process\\DBSCAN_Clustering\\Sample_Output\"\n",
    "name_shp_DBSCAN = \"Sample_Concave_clustered_buildings_DBSCAN.shp\"\n",
    "name_shp_True = \"Sample_Concave_clustered_buildings_true.shp\""
   ]
  },
  {
   "cell_type": "code",
   "execution_count": 73,
   "metadata": {},
   "outputs": [],
   "source": [
    "# Create a new geo-dataframe(s)\n",
    "geom_gdf_DBSCAN = gpd.read_file(path + \"\\\\\" + name_shp_DBSCAN)\n",
    "geom_gdf_True = gpd.read_file(path + \"\\\\\" + name_shp_True)"
   ]
  },
  {
   "cell_type": "code",
   "execution_count": 74,
   "metadata": {},
   "outputs": [
    {
     "data": {
      "application/vnd.jupyter.widget-view+json": {
       "model_id": "4577e45126584740b39196026126d18c",
       "version_major": 2,
       "version_minor": 0
      },
      "text/plain": [
       "Map(center=[-1.0829060000000001, 29.630823], controls=(ZoomControl(options=['position', 'zoom_in_text', 'zoom_…"
      ]
     },
     "metadata": {},
     "output_type": "display_data"
    }
   ],
   "source": [
    "m = Map(\n",
    "    basemap=basemap_to_tiles(basemaps.OpenStreetMap.HOT),\n",
    "    center=(buildings.geometry.centroid[0].y, buildings.geometry.centroid[0].x),\n",
    "    zoom=13)\n",
    "\n",
    "building_data = GeoData(geo_dataframe = buildings,\n",
    "                       style={'color': 'black', 'opacity':3, 'weight':1.9, 'dashArray':'2', 'fillOpacity':0.6},\n",
    "                       hover_style={'fillColor': 'red' , 'fillOpacity': 0.2},\n",
    "                       name = 'Buildings')\n",
    "\n",
    "DBSCAN_geom = GeoData(geo_dataframe = geom_gdf_DBSCAN,\n",
    "                     style={'color': 'black', 'fillColor': '#3366cc', 'opacity':0.05, 'weight':1.9, 'dashArray':'2', 'fillOpacity':0.6},\n",
    "                     hover_style={'fillColor': 'red' , 'fillOpacity': 0.2},\n",
    "                     name = 'DBSCAN')\n",
    "\n",
    "true_geom = GeoData(geo_dataframe = geom_gdf_True,\n",
    "                     style={'color': 'black', 'fillColor': '#3366cc', 'opacity':0.05, 'weight':1.9, 'dashArray':'2', 'fillOpacity':0.6},\n",
    "                     hover_style={'fillColor': 'red' , 'fillOpacity': 0.2},\n",
    "                     name = 'true geometries')\n",
    "\n",
    "m.add_layer(building_data)\n",
    "m.add_layer(DBSCAN_geom)\n",
    "m.add_layer(true_geom)\n",
    "\n",
    "m.add_control(LayersControl())\n",
    "\n",
    "m"
   ]
  }
 ],
 "metadata": {
  "kernelspec": {
   "display_name": "Python 3",
   "language": "python",
   "name": "python3"
  },
  "language_info": {
   "codemirror_mode": {
    "name": "ipython",
    "version": 3
   },
   "file_extension": ".py",
   "mimetype": "text/x-python",
   "name": "python",
   "nbconvert_exporter": "python",
   "pygments_lexer": "ipython3",
   "version": "3.7.6"
  }
 },
 "nbformat": 4,
 "nbformat_minor": 2
}
