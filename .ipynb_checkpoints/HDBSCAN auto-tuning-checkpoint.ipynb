{
 "cells": [
  {
   "cell_type": "markdown",
   "metadata": {},
   "source": [
    "# Population clusters with HDBSCAN | auto-tuning of eps and min_sample\n",
    "\n",
    "**Original code**: [Alexandros Korkovelos](https://github.com/akorkovelos)<br>\n",
    "**Conceptualization & Methodological review** : [Alexandros Korkovelos](https://github.com/akorkovelos)<br>\n",
    "**Updates, Modifications**: [Alexandros Korkovelos](https://github.com/akorkovelos)<br>"
   ]
  },
  {
   "cell_type": "markdown",
   "metadata": {},
   "source": [
    "## Importing packages"
   ]
  },
  {
   "cell_type": "code",
   "execution_count": 1,
   "metadata": {},
   "outputs": [],
   "source": [
    "# Operational\n",
    "import os\n",
    "import tkinter as tk\n",
    "from tkinter import filedialog, messagebox\n",
    "root = tk.Tk()\n",
    "root.withdraw()\n",
    "root.attributes(\"-topmost\", True)\n",
    "\n",
    "# Numerical\n",
    "import geopandas as gpd\n",
    "import pandas as pd\n",
    "import numpy as np\n",
    "import math\n",
    "\n",
    "import alphashape\n",
    "from descartes import PolygonPatch\n",
    "\n",
    "# ML related\n",
    "from sklearn.cluster import DBSCAN\n",
    "from hdbscan import HDBSCAN\n",
    "import sklearn.utils\n",
    "from sklearn.preprocessing import StandardScaler\n",
    "from sklearn import metrics\n",
    "\n",
    "\n",
    "# Mapping\n",
    "import contextily as ctx\n",
    "from ipyleaflet import *\n",
    "\n",
    "# Graphs and plotting\n",
    "import seaborn as sns\n",
    "\n",
    "import matplotlib.pyplot as plt\n",
    "%matplotlib inline"
   ]
  },
  {
   "cell_type": "code",
   "execution_count": 2,
   "metadata": {},
   "outputs": [],
   "source": [
    "# Coordinate system in EPSG registry\n",
    "proj_crs = \"epsg:32736\"\n",
    "def_crs = \"epsg:4326\""
   ]
  },
  {
   "cell_type": "markdown",
   "metadata": {},
   "source": [
    "## Import & prepare building footprint dataset"
   ]
  },
  {
   "cell_type": "markdown",
   "metadata": {},
   "source": [
    "#### Importing dataset "
   ]
  },
  {
   "cell_type": "code",
   "execution_count": 3,
   "metadata": {},
   "outputs": [],
   "source": [
    "messagebox.showinfo('Extraction directory', 'Output folder')\n",
    "workspace = filedialog.askdirectory()\n",
    "\n",
    "filename_building_footprint = (filedialog.askopenfilename(filetypes = ((\"geopackage\",\"*.gpkg\"),(\"all files\",\"*.*\"))))\n",
    "buildings=gpd.read_file(filename_building_footprint)"
   ]
  },
  {
   "cell_type": "code",
   "execution_count": 4,
   "metadata": {},
   "outputs": [
    {
     "data": {
      "application/vnd.jupyter.widget-view+json": {
       "model_id": "a7b3b144139f4f7bb621b882eddb944e",
       "version_major": 2,
       "version_minor": 0
      },
      "text/plain": [
       "Map(center=[-1.0829060000000001, 29.630823], controls=(ZoomControl(options=['position', 'zoom_in_text', 'zoom_…"
      ]
     },
     "metadata": {},
     "output_type": "display_data"
    }
   ],
   "source": [
    "m = Map(\n",
    "    basemap=basemap_to_tiles(basemaps.OpenStreetMap.HOT),\n",
    "    center=(buildings.geometry.centroid[0].y, buildings.geometry.centroid[0].x),\n",
    "    zoom=13)\n",
    "\n",
    "building_data = GeoData(geo_dataframe = buildings,\n",
    "                       style={'color': 'black', 'opacity':3, 'weight':1.9, 'dashArray':'2', 'fillOpacity':0.6},\n",
    "                       hover_style={'fillColor': 'red' , 'fillOpacity': 0.2},\n",
    "                       name = 'Buildings')\n",
    "\n",
    "m.add_layer(building_data)\n",
    "\n",
    "m"
   ]
  },
  {
   "cell_type": "code",
   "execution_count": 5,
   "metadata": {},
   "outputs": [],
   "source": [
    "## Alternative plotting of the geo-dataframe\n",
    "\n",
    "#fig, ax = plt.subplots(figsize=(15, 15))\n",
    "#buildings.plot(ax=ax)\n",
    "#ax.set_aspect('equal', 'box')\n",
    "#txt = ax.set_title('Dictribution of buildings in the AOI'.format(\"\"))"
   ]
  },
  {
   "cell_type": "markdown",
   "metadata": {},
   "source": [
    "#### Preping dataset"
   ]
  },
  {
   "cell_type": "code",
   "execution_count": 6,
   "metadata": {},
   "outputs": [],
   "source": [
    "# Getting centroids of buildings\n",
    "buildings_cent = buildings.centroid"
   ]
  },
  {
   "cell_type": "code",
   "execution_count": 7,
   "metadata": {},
   "outputs": [],
   "source": [
    "buildings_centroid = gpd.GeoDataFrame(geometry=buildings_cent)"
   ]
  },
  {
   "cell_type": "code",
   "execution_count": 8,
   "metadata": {},
   "outputs": [],
   "source": [
    "# Projecting geodataframe to coordinate system \n",
    "buildings_centroid = buildings_centroid.to_crs({'init': proj_crs})\n",
    "\n",
    "## Creating lon/lat columns\n",
    "buildings_centroid['lon'] = buildings_centroid[\"geometry\"].x\n",
    "buildings_centroid['lat'] = buildings_centroid[\"geometry\"].y"
   ]
  },
  {
   "cell_type": "code",
   "execution_count": 9,
   "metadata": {},
   "outputs": [],
   "source": [
    "# Preping the dataframe used to fit the clustering algorithm \n",
    "buildings_centroid_cluster = buildings_centroid[['lon', 'lat']]"
   ]
  },
  {
   "cell_type": "code",
   "execution_count": 10,
   "metadata": {},
   "outputs": [
    {
     "data": {
      "text/html": [
       "<div>\n",
       "<style scoped>\n",
       "    .dataframe tbody tr th:only-of-type {\n",
       "        vertical-align: middle;\n",
       "    }\n",
       "\n",
       "    .dataframe tbody tr th {\n",
       "        vertical-align: top;\n",
       "    }\n",
       "\n",
       "    .dataframe thead th {\n",
       "        text-align: right;\n",
       "    }\n",
       "</style>\n",
       "<table border=\"1\" class=\"dataframe\">\n",
       "  <thead>\n",
       "    <tr style=\"text-align: right;\">\n",
       "      <th></th>\n",
       "      <th>lon</th>\n",
       "      <th>lat</th>\n",
       "    </tr>\n",
       "  </thead>\n",
       "  <tbody>\n",
       "    <tr>\n",
       "      <th>0</th>\n",
       "      <td>124943.954418</td>\n",
       "      <td>9.880098e+06</td>\n",
       "    </tr>\n",
       "    <tr>\n",
       "      <th>1</th>\n",
       "      <td>125366.776566</td>\n",
       "      <td>9.878715e+06</td>\n",
       "    </tr>\n",
       "    <tr>\n",
       "      <th>2</th>\n",
       "      <td>126476.743281</td>\n",
       "      <td>9.878018e+06</td>\n",
       "    </tr>\n",
       "  </tbody>\n",
       "</table>\n",
       "</div>"
      ],
      "text/plain": [
       "             lon           lat\n",
       "0  124943.954418  9.880098e+06\n",
       "1  125366.776566  9.878715e+06\n",
       "2  126476.743281  9.878018e+06"
      ]
     },
     "execution_count": 10,
     "metadata": {},
     "output_type": "execute_result"
    }
   ],
   "source": [
    "# Example output \n",
    "buildings_centroid_cluster.head(3)"
   ]
  },
  {
   "cell_type": "code",
   "execution_count": null,
   "metadata": {},
   "outputs": [],
   "source": []
  },
  {
   "cell_type": "markdown",
   "metadata": {},
   "source": [
    "## Deploying HDBSCAN"
   ]
  },
  {
   "cell_type": "markdown",
   "metadata": {},
   "source": [
    "**Note!**\n",
    "\n",
    "The HDBSCAN algorithm groups all \"remote\" points under index -1; These are considered as noise in the algorithm. The number of clusters as well as what is considered as noise might change based on HDBSCAN parameter calibration. See documentation below.\n",
    "\n",
    "- [sklearn documentation](https://hdbscan.readthedocs.io/en/latest/comparing_clustering_algorithms.html)\n",
    "- [Clustering as feature engineering](https://geographicdata.science/book/notebooks/12_feature_engineering.html?highlight=hdbscan#)\n",
    "- [GitHub repo on HDBSCAN](https://github.com/scikit-learn-contrib/hdbscan/tree/master/notebooks)\n",
    "- [Geographic Clustering with HDBSCAN](https://towardsdatascience.com/geographic-clustering-with-hdbscan-ef8cb0ed6051)\n",
    "- [Evaluation of clustering](https://nlp.stanford.edu/IR-book/html/htmledition/evaluation-of-clustering-1.html)\n",
    "\n",
    "Other\n",
    "\n",
    "- [Exploration of OpenStreetMap Missing Built-up Areas using Twitter Hierarchical Clustering and Deep Learning in Mozambique](https://www.researchgate.net/publication/341371133_Exploration_of_OpenStreetMap_Missing_Built-up_Areas_using_Twitter_Hierarchical_Clustering_and_Deep_Learning_in_Mozambique)\n",
    "- [Understanding the dynamics of urban areas of interest through volunteered geographic information](https://link.springer.com/article/10.1007/s10109-018-0284-3)\n",
    "- [Using Volunteered Geographic Information andNighttime Light Remote Sensing Data to IdentifyTourism Areas of Interest](https://www.mdpi.com/2071-1050/11/17/4718)"
   ]
  },
  {
   "cell_type": "markdown",
   "metadata": {},
   "source": [
    "### Identify the optimal min_cluster_size from a range \n",
    "\n",
    "In this case we use the **Adjusted Rand index**, using true values that exist in the raw data. In case true values do not exist one may use the **Silhouette Coefficient** though this is not optimal for HDBSCAN. \n",
    "\n",
    "Read more [here](https://scikit-learn.org/stable/modules/clustering.html#clustering-performance-evaluation)"
   ]
  },
  {
   "cell_type": "code",
   "execution_count": 13,
   "metadata": {},
   "outputs": [],
   "source": [
    "# This is the true value of clusters (in this case existing in the testing dataset)\n",
    "labels_true = buildings[\"label_true\"].to_numpy()"
   ]
  },
  {
   "cell_type": "code",
   "execution_count": 14,
   "metadata": {},
   "outputs": [],
   "source": [
    "buildings_centroid[\"True_Cluster_ID\"] = labels_true"
   ]
  },
  {
   "cell_type": "code",
   "execution_count": 15,
   "metadata": {},
   "outputs": [],
   "source": [
    "range_min_sample = [*range(2, 85, 1)] \n",
    "dict_hdb = dict()\n",
    "\n",
    "def extract_dict_value(diction, search_value):\n",
    "    search_value = str(search_value)\n",
    "    for key, value in diction.items(): \n",
    "        if value == search_value:\n",
    "            return (key)"
   ]
  },
  {
   "cell_type": "code",
   "execution_count": 16,
   "metadata": {},
   "outputs": [
    {
     "name": "stdout",
     "output_type": "stream",
     "text": [
      "The highest adjusted_rand_score (0.8664624199703476) is provided by using min_cluster_size=5\n"
     ]
    },
    {
     "data": {
      "image/png": "[encoded data removed]",
      "text/plain": [
       "<Figure size 720x504 with 1 Axes>"
      ]
     },
     "metadata": {
      "needs_background": "light"
     },
     "output_type": "display_data"
    }
   ],
   "source": [
    "for m in range_min_sample:\n",
    "    hdb = HDBSCAN(min_cluster_size=m).fit(buildings_centroid_cluster)\n",
    "    labels = hdb.labels_\n",
    "    \n",
    "    # Adjusted Rand Index\n",
    "    rand_avg = metrics.adjusted_rand_score(labels_true, labels)\n",
    "    dict_hdb[m] = rand_avg\n",
    "    \n",
    "#    ## Silhuette coeficient \n",
    "#    if len(labels[labels>0])==0:\n",
    "#        silh_avg = 0\n",
    "#    else:\n",
    "#        silh_avg = metrics.silhouette_score(buildings_centroid_cluster, labels)\n",
    "#    dict_hdb[m] = silh_avg\n",
    "    \n",
    "    # Return the number of cluster for which the average silhuette value is higher\n",
    "    sug_min_clust_size = max(dict_hdb, key=dict_hdb.get)\n",
    "\n",
    "print (\"The highest adjusted_rand_score ({x}) is provided by using min_cluster_size={y}\".\n",
    "       format(x=dict_hdb[sug_min_clust_size], y=sug_min_clust_size)) \n",
    "\n",
    "pd.DataFrame(dict_hdb.items(), columns=['min_cluster_size', 'rand_score']).plot(x ='min_cluster_size', \n",
    "                                                                                y='rand_score', \n",
    "                                                                                kind = 'line', \n",
    "                                                                                title=\"Range of Rand Score over different min_cluster_sizes\", \n",
    "                                                                                figsize=(10,7))\n",
    "plt.show()"
   ]
  },
  {
   "cell_type": "markdown",
   "metadata": {},
   "source": [
    "### Fitting and running the algorithm"
   ]
  },
  {
   "cell_type": "code",
   "execution_count": 17,
   "metadata": {},
   "outputs": [],
   "source": [
    "# Fit model\n",
    "buildings_centroid_cluster = StandardScaler().fit_transform(buildings_centroid_cluster)"
   ]
  },
  {
   "cell_type": "code",
   "execution_count": 18,
   "metadata": {},
   "outputs": [],
   "source": [
    "hdb = HDBSCAN(min_cluster_size= sug_min_clust_size).fit(buildings_centroid_cluster)\n",
    "\n",
    "labels = hdb.labels_\n",
    "buildings_centroid[\"HDBSCAN_Cluster_ID\"] = labels"
   ]
  },
  {
   "cell_type": "code",
   "execution_count": 19,
   "metadata": {},
   "outputs": [
    {
     "data": {
      "text/plain": [
       "array([ 6,  4,  2,  0,  1, -1,  3,  8,  7,  5], dtype=int64)"
      ]
     },
     "execution_count": 19,
     "metadata": {},
     "output_type": "execute_result"
    }
   ],
   "source": [
    "# Print ID of identified clusters\n",
    "buildings_centroid.HDBSCAN_Cluster_ID.unique()"
   ]
  },
  {
   "cell_type": "code",
   "execution_count": 20,
   "metadata": {},
   "outputs": [
    {
     "data": {
      "text/plain": [
       "<matplotlib.axes._subplots.AxesSubplot at 0x261e10c9d88>"
      ]
     },
     "execution_count": 20,
     "metadata": {},
     "output_type": "execute_result"
    },
    {
     "data": {
      "image/png": "[encoded data removed]",
      "text/plain": [
       "<Figure size 1080x720 with 2 Axes>"
      ]
     },
     "metadata": {
      "needs_background": "light"
     },
     "output_type": "display_data"
    }
   ],
   "source": [
    "plt.figure(figsize=(15,10))\n",
    "hdb.condensed_tree_.plot(select_clusters=True,\n",
    "                         selection_palette=sns.color_palette('deep', 8))"
   ]
  },
  {
   "cell_type": "code",
   "execution_count": 21,
   "metadata": {},
   "outputs": [
    {
     "data": {
      "image/png": "[encoded data removed]",
      "text/plain": [
       "<Figure size 1080x1080 with 1 Axes>"
      ]
     },
     "metadata": {
      "needs_background": "light"
     },
     "output_type": "display_data"
    }
   ],
   "source": [
    "# Plot clustered buildings\n",
    "fig, ax = plt.subplots(figsize=(15, 15))\n",
    "buildings_centroid.plot(ax=ax, column='HDBSCAN_Cluster_ID', markersize=20, cmap=\"viridis\")\n",
    "ax.set_aspect('equal', 'box')\n",
    "txt = ax.set_title('Clusterized buildings with HDBSCAN -- minSamples:{}'.format(5))\n",
    "ax.grid(False)"
   ]
  },
  {
   "cell_type": "code",
   "execution_count": 22,
   "metadata": {},
   "outputs": [
    {
     "data": {
      "image/png": "[encoded data removed]",
      "text/plain": [
       "<Figure size 720x432 with 1 Axes>"
      ]
     },
     "metadata": {
      "needs_background": "light"
     },
     "output_type": "display_data"
    }
   ],
   "source": [
    "fig, ax = plt.subplots(figsize=(10, 6))\n",
    "ax = plt.hist(hdb.probabilities_)"
   ]
  },
  {
   "cell_type": "code",
   "execution_count": 23,
   "metadata": {},
   "outputs": [],
   "source": [
    "# This is the true value of clusters (in this case existing in the testing dataset)\n",
    "labels_true = buildings[\"label_true\"].to_numpy()"
   ]
  },
  {
   "cell_type": "code",
   "execution_count": 24,
   "metadata": {},
   "outputs": [],
   "source": [
    "buildings_centroid[\"True_Cluster_ID\"] = labels_true"
   ]
  },
  {
   "cell_type": "code",
   "execution_count": 25,
   "metadata": {},
   "outputs": [
    {
     "name": "stdout",
     "output_type": "stream",
     "text": [
      "Estimated number of clusters: 9\n",
      "Estimated number of noise points: 17\n",
      "------------\n",
      "Homogeneity: 0.850\n",
      "Completeness: 0.870\n",
      "V-measure: 0.860\n",
      "Adjusted Rand Index: 0.866\n",
      "Adjusted Mutual Information: 0.844\n",
      "Silhouette Coefficient: 0.528\n"
     ]
    }
   ],
   "source": [
    "# Number of clusters in labels, ignoring noise if present.\n",
    "n_clusters_ = len(set(labels)) - (1 if -1 in labels else 0)\n",
    "n_noise_ = list(labels).count(-1)\n",
    "\n",
    "print('Estimated number of clusters: %d' % n_clusters_)\n",
    "print('Estimated number of noise points: %d' % n_noise_)\n",
    "print(\"------------\")\n",
    "print(\"Homogeneity: %0.3f\" % metrics.homogeneity_score(labels_true, labels))\n",
    "print(\"Completeness: %0.3f\" % metrics.completeness_score(labels_true, labels))\n",
    "print(\"V-measure: %0.3f\" % metrics.v_measure_score(labels_true, labels))\n",
    "print(\"Adjusted Rand Index: %0.3f\"\n",
    "      % metrics.adjusted_rand_score(labels_true, labels))\n",
    "print(\"Adjusted Mutual Information: %0.3f\"\n",
    "      % metrics.adjusted_mutual_info_score(labels_true, labels))\n",
    "print(\"Silhouette Coefficient: %0.3f\"\n",
    "      % metrics.silhouette_score(buildings_centroid_cluster, labels))"
   ]
  },
  {
   "cell_type": "markdown",
   "metadata": {},
   "source": [
    "Read more about the evaluation indices [here](https://scikit-learn.org/stable/modules/clustering.html#clustering-performance-evaluation) and [here](https://www.dbs.ifi.lmu.de/~zimek/publications/SDM2014/DBCV.pdf)."
   ]
  },
  {
   "cell_type": "code",
   "execution_count": null,
   "metadata": {},
   "outputs": [],
   "source": []
  },
  {
   "cell_type": "code",
   "execution_count": null,
   "metadata": {},
   "outputs": [],
   "source": []
  },
  {
   "cell_type": "markdown",
   "metadata": {},
   "source": [
    "# Create surrounding geometries"
   ]
  },
  {
   "cell_type": "code",
   "execution_count": 26,
   "metadata": {},
   "outputs": [
    {
     "data": {
      "text/html": [
       "<div>\n",
       "<style scoped>\n",
       "    .dataframe tbody tr th:only-of-type {\n",
       "        vertical-align: middle;\n",
       "    }\n",
       "\n",
       "    .dataframe tbody tr th {\n",
       "        vertical-align: top;\n",
       "    }\n",
       "\n",
       "    .dataframe thead th {\n",
       "        text-align: right;\n",
       "    }\n",
       "</style>\n",
       "<table border=\"1\" class=\"dataframe\">\n",
       "  <thead>\n",
       "    <tr style=\"text-align: right;\">\n",
       "      <th></th>\n",
       "      <th>geometry</th>\n",
       "      <th>lon</th>\n",
       "      <th>lat</th>\n",
       "      <th>True_Cluster_ID</th>\n",
       "      <th>HDBSCAN_Cluster_ID</th>\n",
       "    </tr>\n",
       "  </thead>\n",
       "  <tbody>\n",
       "    <tr>\n",
       "      <th>0</th>\n",
       "      <td>POINT (124943.954 9880097.618)</td>\n",
       "      <td>124943.954418</td>\n",
       "      <td>9.880098e+06</td>\n",
       "      <td>2</td>\n",
       "      <td>6</td>\n",
       "    </tr>\n",
       "    <tr>\n",
       "      <th>1</th>\n",
       "      <td>POINT (125366.777 9878715.273)</td>\n",
       "      <td>125366.776566</td>\n",
       "      <td>9.878715e+06</td>\n",
       "      <td>5</td>\n",
       "      <td>4</td>\n",
       "    </tr>\n",
       "    <tr>\n",
       "      <th>2</th>\n",
       "      <td>POINT (126476.743 9878018.142)</td>\n",
       "      <td>126476.743281</td>\n",
       "      <td>9.878018e+06</td>\n",
       "      <td>7</td>\n",
       "      <td>2</td>\n",
       "    </tr>\n",
       "  </tbody>\n",
       "</table>\n",
       "</div>"
      ],
      "text/plain": [
       "                         geometry            lon           lat  \\\n",
       "0  POINT (124943.954 9880097.618)  124943.954418  9.880098e+06   \n",
       "1  POINT (125366.777 9878715.273)  125366.776566  9.878715e+06   \n",
       "2  POINT (126476.743 9878018.142)  126476.743281  9.878018e+06   \n",
       "\n",
       "   True_Cluster_ID  HDBSCAN_Cluster_ID  \n",
       "0                2                   6  \n",
       "1                5                   4  \n",
       "2                7                   2  "
      ]
     },
     "execution_count": 26,
     "metadata": {},
     "output_type": "execute_result"
    }
   ],
   "source": [
    "buildings_centroid.head(3)"
   ]
  },
  {
   "cell_type": "code",
   "execution_count": 27,
   "metadata": {},
   "outputs": [],
   "source": [
    "# Re-Projecting geodataframe to coordinate system \n",
    "buildings_centroid = buildings_centroid.to_crs({'init': proj_crs})"
   ]
  },
  {
   "cell_type": "code",
   "execution_count": 28,
   "metadata": {},
   "outputs": [],
   "source": [
    "buildings_centroid.to_file(workspace + r\"/Clusters_HDBSCAN_auto_tuned.shp\")"
   ]
  },
  {
   "cell_type": "markdown",
   "metadata": {},
   "source": [
    "## Calculate Convex hull -- Not optimal"
   ]
  },
  {
   "cell_type": "code",
   "execution_count": 29,
   "metadata": {},
   "outputs": [],
   "source": [
    "# Dissolve all geometries by cluster ID\n",
    "buildings_centroid_dissolved = buildings_centroid.dissolve(by=\"HDBSCAN_Cluster_ID\")\n",
    "\n",
    "# Eliminate buildings classified as -1 as they will distort the convex hull process\n",
    "buildings_centroid_dissolved_non_clustered = buildings_centroid_dissolved[buildings_centroid_dissolved.index != -1]\n",
    "\n",
    "# Calculate convex hull\n",
    "buildings_polygons = buildings_centroid_dissolved_non_clustered.convex_hull\n",
    "\n",
    "# Convert to geodataframe\n",
    "buildings_polygons_gdf = gpd.GeoDataFrame(geometry=buildings_polygons)\n",
    "\n",
    "# Re-aligh coordinate system\n",
    "buildings_polygons_gdf.crs = {'init': proj_crs}\n",
    "buildings_polygons_gdf = buildings_polygons_gdf.to_crs({'init': def_crs})\n",
    "\n",
    "# Export gdf as as gpkg\n",
    "buildings_polygons_gdf.to_file(workspace + r\"/Sample_Convex_Clusters_HDBSCAN_auto_tuned.shp\")"
   ]
  },
  {
   "cell_type": "markdown",
   "metadata": {},
   "source": [
    "## Calculate Concave Hull -- Better option"
   ]
  },
  {
   "cell_type": "code",
   "execution_count": 30,
   "metadata": {},
   "outputs": [],
   "source": [
    "def get_cluster_geometry(data_frame, col, def_crs, proj_crs, prefix, prefix_non_cluster, alpha=None):\n",
    "    \"\"\"\n",
    "        Calculates the concave hull for a set of points that are classified by a Cluster_ID\n",
    "        \n",
    "        :data_frame: A geo-dataframe that contains a set of points; it shall contain a 'Cluster_ID' column that provides the cluster id that each points belongs to\n",
    "        \n",
    "        :alpha: float alpha value (e.g. 2.0); in case alpha is not defined, the algoritm will try to optimize the alpha value (look here https://pypi.org/project/alphashape/)\n",
    "        \n",
    "        :return: Two shp files; one containing the concave hull polygons and another the set of points that do not belong to a cluster\n",
    "        \n",
    "    \"\"\"\n",
    "    \n",
    "    # Get the unique cluster index as provided by the DBSCAN algorithm\n",
    "    clustering_index = np.unique(data_frame[col].values)\n",
    "    \n",
    "    # Create two lists; one for unclustered points and another for clustered points that will form the polygons\n",
    "    points = clustering_index[:1]\n",
    "    clusters = clustering_index[1:]\n",
    "    \n",
    "    # First deal with points that are not clustered (value: -1); Get them and create a gdf from them\n",
    "    points_df = data_frame.loc[data_frame[col] == points[0], ['geometry']]\n",
    "    points_gdf = polygon_gdf = gpd.GeoDataFrame(points_df, geometry='geometry')\n",
    "    points_gdf.crs = {'init': proj_crs}\n",
    "    points_gdf = points_gdf.to_crs({'init': def_crs})\n",
    "\n",
    "    # Then create the concave hull for each cluster of points\n",
    "    polygons = list()\n",
    "    cluster_numbers = list()\n",
    "\n",
    "    for cluster in clusters:\n",
    "        # Filter out the cluster points\n",
    "        points_df = data_frame.loc[data_frame[col] == cluster, ['geometry']]\n",
    "        \n",
    "        # Then call the alpha_spape function; in case alpha is not defined, the algoritm will try to optimize the alpha value (look here https://pypi.org/project/alphashape/)\n",
    "        alpha_shape = alphashape.alphashape(points_df, alpha=alpha)\n",
    "        \n",
    "        # Append polygon number & geometry to a geoseries\n",
    "        polygons.append(alpha_shape['geometry'][0])\n",
    "        cluster_numbers.append(cluster)\n",
    "        \n",
    "    # Createa pandas data frame to store the concave hull polygons\n",
    "    polygon_df = pd.DataFrame.from_dict(data={'cluster': cluster_numbers, 'geometry': polygons})\n",
    "    \n",
    "    # Create the GeoPandas data frame to display on the map\n",
    "    polygon_gdf = gpd.GeoDataFrame(polygon_df)\n",
    "    \n",
    "    # Add buffer so that buildings are enclosed within the polygon (OPTIONAL)\n",
    "    polygon_gdf['geometry'] = polygon_gdf.geometry.buffer(5)   # im meters\n",
    "    \n",
    "    # Revert dataframe to common CRS\n",
    "    polygon_gdf.crs = {'init': proj_crs}\n",
    "    polygon_gdf = polygon_gdf.to_crs({'init': def_crs})\n",
    "    \n",
    "    # Export the two geodataframes \n",
    "    points_gdf.to_file(workspace + prefix_non_cluster)\n",
    "    polygon_gdf.to_file(workspace + prefix_cluster)"
   ]
  },
  {
   "cell_type": "code",
   "execution_count": 31,
   "metadata": {},
   "outputs": [],
   "source": [
    "col='HDBSCAN_Cluster_ID'\n",
    "prefix_cluster = r'/Sample_Concave_clustered_buildings_HDBSCAN_auto_tuned.shp'\n",
    "prefix_non_cluster = r'/Sample_Concave_non_clustered_buildings_HDBSCAN_auto_tuned.shp'"
   ]
  },
  {
   "cell_type": "code",
   "execution_count": 32,
   "metadata": {},
   "outputs": [],
   "source": [
    "get_cluster_geometry(buildings_centroid, col, def_crs, proj_crs, prefix_cluster, prefix_non_cluster)"
   ]
  },
  {
   "cell_type": "markdown",
   "metadata": {},
   "source": [
    "## Plot results"
   ]
  },
  {
   "cell_type": "code",
   "execution_count": 33,
   "metadata": {},
   "outputs": [],
   "source": [
    "# Define path and name of the geometry file\n",
    "path = r\"C:\\Users\\alexl\\Dropbox\\Self-employment\\WBG\\Work\\GEP\\clustering_process\\DBSCAN_Clustering\\Sample_Output\"\n",
    "name_shp_HDBSCAN = \"Sample_Concave_clustered_buildings_HDBSCAN_auto_tuned.shp\"\n",
    "name_shp_True = \"Sample_Concave_clustered_buildings_true.shp\""
   ]
  },
  {
   "cell_type": "code",
   "execution_count": 34,
   "metadata": {},
   "outputs": [],
   "source": [
    "# Create a new geo-dataframe(s)\n",
    "geom_gdf_HDBSCAN = gpd.read_file(path + \"\\\\\" + name_shp_HDBSCAN)\n",
    "geom_gdf_True = gpd.read_file(path + \"\\\\\" + name_shp_True)"
   ]
  },
  {
   "cell_type": "code",
   "execution_count": 35,
   "metadata": {},
   "outputs": [
    {
     "data": {
      "application/vnd.jupyter.widget-view+json": {
       "model_id": "611934715df74cb4906d5e3b14ceff47",
       "version_major": 2,
       "version_minor": 0
      },
      "text/plain": [
       "Map(center=[-1.0829060000000001, 29.630823], controls=(ZoomControl(options=['position', 'zoom_in_text', 'zoom_…"
      ]
     },
     "metadata": {},
     "output_type": "display_data"
    }
   ],
   "source": [
    "m = Map(\n",
    "    basemap=basemap_to_tiles(basemaps.OpenStreetMap.HOT),\n",
    "    center=(buildings.geometry.centroid[0].y, buildings.geometry.centroid[0].x),\n",
    "    zoom=13)\n",
    "\n",
    "building_data = GeoData(geo_dataframe = buildings,\n",
    "                       style={'color': 'black', 'opacity':3, 'weight':1.9, 'dashArray':'2', 'fillOpacity':0.6},\n",
    "                       hover_style={'fillColor': 'red' , 'fillOpacity': 0.2},\n",
    "                       name = 'Buildings')\n",
    "\n",
    "HDBSCAN_geom = GeoData(geo_dataframe = geom_gdf_HDBSCAN,\n",
    "                     style={'color': 'black', 'fillColor': '#3366cc', 'opacity':0.05, 'weight':1.9, 'dashArray':'2', 'fillOpacity':0.6},\n",
    "                     hover_style={'fillColor': 'red' , 'fillOpacity': 0.2},\n",
    "                     name = 'HDBSCAN auto-tuned')\n",
    "\n",
    "true_geom = GeoData(geo_dataframe = geom_gdf_True,\n",
    "                     style={'color': 'black', 'fillColor': '#3366cc', 'opacity':0.05, 'weight':1.9, 'dashArray':'2', 'fillOpacity':0.6},\n",
    "                     hover_style={'fillColor': 'red' , 'fillOpacity': 0.2},\n",
    "                     name = 'true geometries')\n",
    "\n",
    "m.add_layer(building_data)\n",
    "m.add_layer(HDBSCAN_geom)\n",
    "m.add_layer(true_geom)\n",
    "\n",
    "m.add_control(LayersControl())\n",
    "\n",
    "m"
   ]
  }
 ],
 "metadata": {
  "kernelspec": {
   "display_name": "Python 3",
   "language": "python",
   "name": "python3"
  },
  "language_info": {
   "codemirror_mode": {
    "name": "ipython",
    "version": 3
   },
   "file_extension": ".py",
   "mimetype": "text/x-python",
   "name": "python",
   "nbconvert_exporter": "python",
   "pygments_lexer": "ipython3",
   "version": "3.7.6"
  }
 },
 "nbformat": 4,
 "nbformat_minor": 2
}
