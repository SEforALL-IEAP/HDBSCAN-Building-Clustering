{
 "cells": [
  {
   "cell_type": "markdown",
   "metadata": {},
   "source": [
    "# Clustering comparative analysis\n",
    "\n",
    "**Original code**: [Alexandros Korkovelos](https://github.com/akorkovelos)<br>\n",
    "**Conceptualization & Methodological review** : [Alexandros Korkovelos](https://github.com/akorkovelos)<br>\n",
    "**Updates, Modifications**: [Alexandros Korkovelos](https://github.com/akorkovelos)<br>"
   ]
  },
  {
   "cell_type": "markdown",
   "metadata": {},
   "source": [
    "## Importing packages"
   ]
  },
  {
   "cell_type": "code",
   "execution_count": 13,
   "metadata": {},
   "outputs": [],
   "source": [
    "# Operational\n",
    "import os\n",
    "import tkinter as tk\n",
    "from tkinter import filedialog, messagebox\n",
    "root = tk.Tk()\n",
    "root.withdraw()\n",
    "root.attributes(\"-topmost\", True)\n",
    "\n",
    "# Numerical\n",
    "import geopandas as gpd\n",
    "import pandas as pd\n",
    "import numpy as np\n",
    "import math\n",
    "\n",
    "# Mapping\n",
    "import contextily as ctx\n",
    "from ipyleaflet import *\n",
    "\n",
    "# Graphs and plotting\n",
    "import seaborn as sns\n",
    "\n",
    "import matplotlib.pyplot as plt\n",
    "%matplotlib inline"
   ]
  },
  {
   "cell_type": "code",
   "execution_count": 14,
   "metadata": {},
   "outputs": [],
   "source": [
    "# Coordinate system in EPSG registry\n",
    "proj_crs = \"epsg:32736\"\n",
    "def_crs = \"epsg:4326\""
   ]
  },
  {
   "cell_type": "markdown",
   "metadata": {},
   "source": [
    "## Import & prepare building footprint dataset"
   ]
  },
  {
   "cell_type": "markdown",
   "metadata": {},
   "source": [
    "#### Importing dataset "
   ]
  },
  {
   "cell_type": "code",
   "execution_count": 18,
   "metadata": {},
   "outputs": [],
   "source": [
    "# Define path and name of the geometry file\n",
    "path = r\"C:\\Users\\alexl\\Dropbox\\Self-employment\\WBG\\Work\\GEP\\clustering_process\\DBSCAN_Clustering\\Sample_Output\"\n",
    "path_KTH = r\"C:\\Users\\alexl\\Dropbox\\Self-employment\\WBG\\Work\\GEP\\clustering_process\\DBSCAN_Clustering\\Sample_Input\"\n",
    "\n",
    "name_shp_HDBSCAN_self = \"Sample_Concave_clustered_buildings_HDBSCAN_self_tuned.shp\"\n",
    "name_shp_HDBSCAN_auto = \"Sample_Concave_clustered_buildings_HDBSCAN_auto_tuned.shp\"\n",
    "name_shp_DBSCAN = \"Sample_Concave_clustered_buildings_DBSCAN.shp\"\n",
    "name_shp_True = \"Sample_Concave_clustered_buildings_true.shp\"\n",
    "name_shp_KTH = \"Kisoro_KTH_clusters.gpkg\""
   ]
  },
  {
   "cell_type": "code",
   "execution_count": 20,
   "metadata": {},
   "outputs": [],
   "source": [
    "# Create a new geo-dataframe(s)\n",
    "geom_gdf_HDBSCAN_self = gpd.read_file(path + \"\\\\\" + name_shp_HDBSCAN_self)\n",
    "geom_gdf_HDBSCAN_auto = gpd.read_file(path + \"\\\\\" + name_shp_HDBSCAN_auto)\n",
    "geom_gdf_DBSCAN = gpd.read_file(path + \"\\\\\" + name_shp_DBSCAN)\n",
    "geom_gdf_True = gpd.read_file(path + \"\\\\\" + name_shp_True)\n",
    "geom_gdf_KTH = gpd.read_file(path_KTH + \"\\\\\" + name_shp_KTH)"
   ]
  },
  {
   "cell_type": "code",
   "execution_count": 23,
   "metadata": {},
   "outputs": [
    {
     "data": {
      "application/vnd.jupyter.widget-view+json": {
       "model_id": "3440cc215766425d9f79a9c0b1ca1654",
       "version_major": 2,
       "version_minor": 0
      },
      "text/plain": [
       "Map(center=[-1.0829060000000001, 29.630823], controls=(ZoomControl(options=['position', 'zoom_in_text', 'zoom_…"
      ]
     },
     "metadata": {},
     "output_type": "display_data"
    }
   ],
   "source": [
    "m = Map(\n",
    "    basemap=basemap_to_tiles(basemaps.OpenStreetMap.HOT),\n",
    "    center=(buildings.geometry.centroid[0].y, buildings.geometry.centroid[0].x),\n",
    "    zoom=13)\n",
    "\n",
    "building_data = GeoData(geo_dataframe = buildings,\n",
    "                       style={'color': 'black', 'opacity':3, 'weight':1.9, 'dashArray':'2', 'fillOpacity':0.6},\n",
    "                       hover_style={'fillColor': 'red' , 'fillOpacity': 0.2},\n",
    "                       name = 'Buildings')\n",
    "\n",
    "DBSCAN_geom = GeoData(geo_dataframe = geom_gdf_DBSCAN,\n",
    "                     style={'color': 'black', 'fillColor': '#3366cc', 'opacity':0.05, 'weight':1.9, 'dashArray':'2', 'fillOpacity':0.6},\n",
    "                     hover_style={'fillColor': 'red' , 'fillOpacity': 0.2},\n",
    "                     name = 'DBSCAN')\n",
    "\n",
    "HDBSCAN_geom_self = GeoData(geo_dataframe = geom_gdf_HDBSCAN_self,\n",
    "                     style={'color': 'black', 'fillColor': '#3366cc', 'opacity':0.05, 'weight':1.9, 'dashArray':'2', 'fillOpacity':0.6},\n",
    "                     hover_style={'fillColor': 'red' , 'fillOpacity': 0.2},\n",
    "                     name = 'HDBSCAN self-tuned')\n",
    "\n",
    "HDBSCAN_geom_auto = GeoData(geo_dataframe = geom_gdf_HDBSCAN_auto,\n",
    "                     style={'color': 'black', 'fillColor': '#3366cc', 'opacity':0.05, 'weight':1.9, 'dashArray':'2', 'fillOpacity':0.6},\n",
    "                     hover_style={'fillColor': 'red' , 'fillOpacity': 0.2},\n",
    "                     name = 'HDBSCAN auto-tuned')\n",
    "\n",
    "KTH_geom = GeoData(geo_dataframe = geom_gdf_KTH,\n",
    "                   style={'color': 'black', 'fillColor': '#3366cc', 'opacity':0.05, 'weight':1.9, 'dashArray':'2', 'fillOpacity':0.6},\n",
    "                   hover_style={'fillColor': 'red' , 'fillOpacity': 0.2},\n",
    "                   name = 'KTH clusters')\n",
    "\n",
    "true_geom = GeoData(geo_dataframe = geom_gdf_True,\n",
    "                     style={'color': 'black', 'fillColor': '#3366cc', 'opacity':0.05, 'weight':1.9, 'dashArray':'2', 'fillOpacity':0.6},\n",
    "                     hover_style={'fillColor': 'red' , 'fillOpacity': 0.2},\n",
    "                     name = 'true geometries')\n",
    "\n",
    "m.add_layer(building_data)\n",
    "m.add_layer(HDBSCAN_geom_self)\n",
    "m.add_layer(HDBSCAN_geom_auto)\n",
    "m.add_layer(DBSCAN_geom)\n",
    "m.add_layer(KTH_geom)\n",
    "m.add_layer(true_geom)\n",
    "\n",
    "m.add_control(LayersControl())\n",
    "\n",
    "m"
   ]
  },
  {
   "cell_type": "code",
   "execution_count": null,
   "metadata": {},
   "outputs": [],
   "source": []
  }
 ],
 "metadata": {
  "kernelspec": {
   "display_name": "Python 3",
   "language": "python",
   "name": "python3"
  },
  "language_info": {
   "codemirror_mode": {
    "name": "ipython",
    "version": 3
   },
   "file_extension": ".py",
   "mimetype": "text/x-python",
   "name": "python",
   "nbconvert_exporter": "python",
   "pygments_lexer": "ipython3",
   "version": "3.7.6"
  }
 },
 "nbformat": 4,
 "nbformat_minor": 2
}
